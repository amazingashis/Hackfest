{
  "nbformat": 4,
  "nbformat_minor": 0,
  "metadata": {
    "colab": {
      "name": "KU_Hack_Fest.ipynb",
      "provenance": [],
      "mount_file_id": "1jzG_ot9JKXTjeNkWhFHGGpC3nWQhmrTi",
      "authorship_tag": "ABX9TyNjgQsQlLIe+DiQPXSmb4c1",
      "include_colab_link": true
    },
    "kernelspec": {
      "name": "python3",
      "display_name": "Python 3"
    }
  },
  "cells": [
    {
      "cell_type": "markdown",
      "metadata": {
        "id": "view-in-github",
        "colab_type": "text"
      },
      "source": [
        "<a href=\"https://colab.research.google.com/github/amazingashis/Hackfest/blob/master/KU_Hack_Fest.ipynb\" target=\"_parent\"><img src=\"https://colab.research.google.com/assets/colab-badge.svg\" alt=\"Open In Colab\"/></a>"
      ]
    },
    {
      "cell_type": "code",
      "metadata": {
        "colab": {
          "base_uri": "https://localhost:8080/"
        },
        "id": "ht4gumRQG8jy",
        "outputId": "db211beb-c1f7-40b8-a5e3-89892bf90a8f"
      },
      "source": [
        "!pip install tensorflowjs\r\n",
        "import matplotlib.pyplot as plt\r\n",
        "import tensorflow as tf \r\n",
        "from tensorflow import keras \r\n",
        "from tensorflow.keras.models import Sequential\r\n",
        "from tensorflow.keras.layers import Dense, Activation, Conv2D, MaxPooling2D, Flatten, Dropout, BatchNormalization\r\n",
        "from tensorflow.keras.optimizers import Adam\r\n",
        "from tensorflow.keras.callbacks import EarlyStopping\r\n",
        "from tensorflow.keras.preprocessing.image import ImageDataGenerator\r\n",
        "from sklearn.metrics import precision_recall_curve, roc_curve, accuracy_score, confusion_matrix, precision_score, recall_score\r\n",
        "from sklearn.decomposition import PCA\r\n",
        "from sklearn.model_selection import train_test_split\r\n",
        "import matplotlib.pyplot as plt \r\n",
        "import seaborn as sns \r\n",
        "plt.style.use('fivethirtyeight')\r\n",
        "import pickle \r\n",
        "import os \r\n",
        "import numpy as np\r\n",
        "import cv2 \r\n",
        "%matplotlib inline\r\n",
        "import pandas.util.testing as tm"
      ],
      "execution_count": null,
      "outputs": [
        {
          "output_type": "stream",
          "text": [
            "Collecting tensorflowjs\n",
            "\u001b[?25l  Downloading https://files.pythonhosted.org/packages/67/4e/f9a147cbf1694b76ac5d2689bbaecf4f70a98712908474ea733d2f545f61/tensorflowjs-3.1.0-py3-none-any.whl (63kB)\n",
            "\r\u001b[K     |█████▏                          | 10kB 12.5MB/s eta 0:00:01\r\u001b[K     |██████████▍                     | 20kB 17.5MB/s eta 0:00:01\r\u001b[K     |███████████████▌                | 30kB 22.0MB/s eta 0:00:01\r\u001b[K     |████████████████████▊           | 40kB 15.5MB/s eta 0:00:01\r\u001b[K     |█████████████████████████▉      | 51kB 13.6MB/s eta 0:00:01\r\u001b[K     |███████████████████████████████ | 61kB 14.5MB/s eta 0:00:01\r\u001b[K     |████████████████████████████████| 71kB 4.5MB/s \n",
            "\u001b[?25hCollecting tensorflow-hub<0.10,>=0.7.0\n",
            "\u001b[?25l  Downloading https://files.pythonhosted.org/packages/ac/83/a7df82744a794107641dad1decaad017d82e25f0e1f761ac9204829eef96/tensorflow_hub-0.9.0-py2.py3-none-any.whl (103kB)\n",
            "\r\u001b[K     |███▏                            | 10kB 16.9MB/s eta 0:00:01\r\u001b[K     |██████▍                         | 20kB 24.6MB/s eta 0:00:01\r\u001b[K     |█████████▌                      | 30kB 26.4MB/s eta 0:00:01\r\u001b[K     |████████████▊                   | 40kB 18.9MB/s eta 0:00:01\r\u001b[K     |███████████████▉                | 51kB 15.6MB/s eta 0:00:01\r\u001b[K     |███████████████████             | 61kB 14.6MB/s eta 0:00:01\r\u001b[K     |██████████████████████▏         | 71kB 14.2MB/s eta 0:00:01\r\u001b[K     |█████████████████████████▍      | 81kB 12.5MB/s eta 0:00:01\r\u001b[K     |████████████████████████████▋   | 92kB 12.7MB/s eta 0:00:01\r\u001b[K     |███████████████████████████████▊| 102kB 13.4MB/s eta 0:00:01\r\u001b[K     |████████████████████████████████| 112kB 13.4MB/s \n",
            "\u001b[?25hRequirement already satisfied: six<2,>=1.12.0 in /usr/local/lib/python3.6/dist-packages (from tensorflowjs) (1.15.0)\n",
            "Requirement already satisfied: h5py<3,>=2.8.0 in /usr/local/lib/python3.6/dist-packages (from tensorflowjs) (2.10.0)\n",
            "Requirement already satisfied: tensorflow<3,>=2.1.0 in /usr/local/lib/python3.6/dist-packages (from tensorflowjs) (2.4.1)\n",
            "Requirement already satisfied: numpy>=1.12.0 in /usr/local/lib/python3.6/dist-packages (from tensorflow-hub<0.10,>=0.7.0->tensorflowjs) (1.19.5)\n",
            "Requirement already satisfied: protobuf>=3.8.0 in /usr/local/lib/python3.6/dist-packages (from tensorflow-hub<0.10,>=0.7.0->tensorflowjs) (3.12.4)\n",
            "Requirement already satisfied: flatbuffers~=1.12.0 in /usr/local/lib/python3.6/dist-packages (from tensorflow<3,>=2.1.0->tensorflowjs) (1.12)\n",
            "Requirement already satisfied: keras-preprocessing~=1.1.2 in /usr/local/lib/python3.6/dist-packages (from tensorflow<3,>=2.1.0->tensorflowjs) (1.1.2)\n",
            "Requirement already satisfied: termcolor~=1.1.0 in /usr/local/lib/python3.6/dist-packages (from tensorflow<3,>=2.1.0->tensorflowjs) (1.1.0)\n",
            "Requirement already satisfied: tensorflow-estimator<2.5.0,>=2.4.0 in /usr/local/lib/python3.6/dist-packages (from tensorflow<3,>=2.1.0->tensorflowjs) (2.4.0)\n",
            "Requirement already satisfied: grpcio~=1.32.0 in /usr/local/lib/python3.6/dist-packages (from tensorflow<3,>=2.1.0->tensorflowjs) (1.32.0)\n",
            "Requirement already satisfied: opt-einsum~=3.3.0 in /usr/local/lib/python3.6/dist-packages (from tensorflow<3,>=2.1.0->tensorflowjs) (3.3.0)\n",
            "Requirement already satisfied: wheel~=0.35 in /usr/local/lib/python3.6/dist-packages (from tensorflow<3,>=2.1.0->tensorflowjs) (0.36.2)\n",
            "Requirement already satisfied: absl-py~=0.10 in /usr/local/lib/python3.6/dist-packages (from tensorflow<3,>=2.1.0->tensorflowjs) (0.10.0)\n",
            "Requirement already satisfied: typing-extensions~=3.7.4 in /usr/local/lib/python3.6/dist-packages (from tensorflow<3,>=2.1.0->tensorflowjs) (3.7.4.3)\n",
            "Requirement already satisfied: tensorboard~=2.4 in /usr/local/lib/python3.6/dist-packages (from tensorflow<3,>=2.1.0->tensorflowjs) (2.4.1)\n",
            "Requirement already satisfied: wrapt~=1.12.1 in /usr/local/lib/python3.6/dist-packages (from tensorflow<3,>=2.1.0->tensorflowjs) (1.12.1)\n",
            "Requirement already satisfied: google-pasta~=0.2 in /usr/local/lib/python3.6/dist-packages (from tensorflow<3,>=2.1.0->tensorflowjs) (0.2.0)\n",
            "Requirement already satisfied: astunparse~=1.6.3 in /usr/local/lib/python3.6/dist-packages (from tensorflow<3,>=2.1.0->tensorflowjs) (1.6.3)\n",
            "Requirement already satisfied: gast==0.3.3 in /usr/local/lib/python3.6/dist-packages (from tensorflow<3,>=2.1.0->tensorflowjs) (0.3.3)\n",
            "Requirement already satisfied: setuptools in /usr/local/lib/python3.6/dist-packages (from protobuf>=3.8.0->tensorflow-hub<0.10,>=0.7.0->tensorflowjs) (53.0.0)\n",
            "Requirement already satisfied: werkzeug>=0.11.15 in /usr/local/lib/python3.6/dist-packages (from tensorboard~=2.4->tensorflow<3,>=2.1.0->tensorflowjs) (1.0.1)\n",
            "Requirement already satisfied: google-auth<2,>=1.6.3 in /usr/local/lib/python3.6/dist-packages (from tensorboard~=2.4->tensorflow<3,>=2.1.0->tensorflowjs) (1.25.0)\n",
            "Requirement already satisfied: requests<3,>=2.21.0 in /usr/local/lib/python3.6/dist-packages (from tensorboard~=2.4->tensorflow<3,>=2.1.0->tensorflowjs) (2.23.0)\n",
            "Requirement already satisfied: google-auth-oauthlib<0.5,>=0.4.1 in /usr/local/lib/python3.6/dist-packages (from tensorboard~=2.4->tensorflow<3,>=2.1.0->tensorflowjs) (0.4.2)\n",
            "Requirement already satisfied: markdown>=2.6.8 in /usr/local/lib/python3.6/dist-packages (from tensorboard~=2.4->tensorflow<3,>=2.1.0->tensorflowjs) (3.3.3)\n",
            "Requirement already satisfied: tensorboard-plugin-wit>=1.6.0 in /usr/local/lib/python3.6/dist-packages (from tensorboard~=2.4->tensorflow<3,>=2.1.0->tensorflowjs) (1.8.0)\n",
            "Requirement already satisfied: pyasn1-modules>=0.2.1 in /usr/local/lib/python3.6/dist-packages (from google-auth<2,>=1.6.3->tensorboard~=2.4->tensorflow<3,>=2.1.0->tensorflowjs) (0.2.8)\n",
            "Requirement already satisfied: cachetools<5.0,>=2.0.0 in /usr/local/lib/python3.6/dist-packages (from google-auth<2,>=1.6.3->tensorboard~=2.4->tensorflow<3,>=2.1.0->tensorflowjs) (4.2.1)\n",
            "Requirement already satisfied: rsa<5,>=3.1.4; python_version >= \"3.6\" in /usr/local/lib/python3.6/dist-packages (from google-auth<2,>=1.6.3->tensorboard~=2.4->tensorflow<3,>=2.1.0->tensorflowjs) (4.7)\n",
            "Requirement already satisfied: chardet<4,>=3.0.2 in /usr/local/lib/python3.6/dist-packages (from requests<3,>=2.21.0->tensorboard~=2.4->tensorflow<3,>=2.1.0->tensorflowjs) (3.0.4)\n",
            "Requirement already satisfied: certifi>=2017.4.17 in /usr/local/lib/python3.6/dist-packages (from requests<3,>=2.21.0->tensorboard~=2.4->tensorflow<3,>=2.1.0->tensorflowjs) (2020.12.5)\n",
            "Requirement already satisfied: urllib3!=1.25.0,!=1.25.1,<1.26,>=1.21.1 in /usr/local/lib/python3.6/dist-packages (from requests<3,>=2.21.0->tensorboard~=2.4->tensorflow<3,>=2.1.0->tensorflowjs) (1.24.3)\n",
            "Requirement already satisfied: idna<3,>=2.5 in /usr/local/lib/python3.6/dist-packages (from requests<3,>=2.21.0->tensorboard~=2.4->tensorflow<3,>=2.1.0->tensorflowjs) (2.10)\n",
            "Requirement already satisfied: requests-oauthlib>=0.7.0 in /usr/local/lib/python3.6/dist-packages (from google-auth-oauthlib<0.5,>=0.4.1->tensorboard~=2.4->tensorflow<3,>=2.1.0->tensorflowjs) (1.3.0)\n",
            "Requirement already satisfied: importlib-metadata; python_version < \"3.8\" in /usr/local/lib/python3.6/dist-packages (from markdown>=2.6.8->tensorboard~=2.4->tensorflow<3,>=2.1.0->tensorflowjs) (3.4.0)\n",
            "Requirement already satisfied: pyasn1<0.5.0,>=0.4.6 in /usr/local/lib/python3.6/dist-packages (from pyasn1-modules>=0.2.1->google-auth<2,>=1.6.3->tensorboard~=2.4->tensorflow<3,>=2.1.0->tensorflowjs) (0.4.8)\n",
            "Requirement already satisfied: oauthlib>=3.0.0 in /usr/local/lib/python3.6/dist-packages (from requests-oauthlib>=0.7.0->google-auth-oauthlib<0.5,>=0.4.1->tensorboard~=2.4->tensorflow<3,>=2.1.0->tensorflowjs) (3.1.0)\n",
            "Requirement already satisfied: zipp>=0.5 in /usr/local/lib/python3.6/dist-packages (from importlib-metadata; python_version < \"3.8\"->markdown>=2.6.8->tensorboard~=2.4->tensorflow<3,>=2.1.0->tensorflowjs) (3.4.0)\n",
            "Installing collected packages: tensorflow-hub, tensorflowjs\n",
            "  Found existing installation: tensorflow-hub 0.11.0\n",
            "    Uninstalling tensorflow-hub-0.11.0:\n",
            "      Successfully uninstalled tensorflow-hub-0.11.0\n",
            "Successfully installed tensorflow-hub-0.9.0 tensorflowjs-3.1.0\n"
          ],
          "name": "stdout"
        },
        {
          "output_type": "stream",
          "text": [
            "/usr/local/lib/python3.6/dist-packages/ipykernel_launcher.py:21: FutureWarning: pandas.util.testing is deprecated. Use the functions in the public API at pandas.testing instead.\n"
          ],
          "name": "stderr"
        }
      ]
    },
    {
      "cell_type": "code",
      "metadata": {
        "id": "vTNnVzDhG-wy"
      },
      "source": [
        "labels = ['chest','skull']\r\n",
        "\r\n",
        "img_size = 50\r\n",
        "def get_training_data(data_dir):\r\n",
        "    data = [] \r\n",
        "    for label in labels: \r\n",
        "        path = os.path.join(data_dir, label)\r\n",
        "        class_num = labels.index(label)\r\n",
        "        for img in os.listdir(path):\r\n",
        "            try:\r\n",
        "                img_arr = cv2.imread(os.path.join(path, img), cv2.IMREAD_GRAYSCALE)\r\n",
        "                resized_arr = cv2.resize(img_arr, (img_size, img_size))\r\n",
        "                data.append([resized_arr, class_num])\r\n",
        "            except Exception as e:\r\n",
        "                print(e)\r\n",
        "    return np.array(data)"
      ],
      "execution_count": null,
      "outputs": []
    },
    {
      "cell_type": "code",
      "metadata": {
        "colab": {
          "base_uri": "https://localhost:8080/"
        },
        "id": "L_eO2byoHAy8",
        "outputId": "532f2a5e-af62-406d-c9a1-8c2a38bbaaa2"
      },
      "source": [
        "data = get_training_data('/content/drive/MyDrive/Data/data')"
      ],
      "execution_count": null,
      "outputs": [
        {
          "output_type": "stream",
          "text": [
            "/usr/local/lib/python3.6/dist-packages/ipykernel_launcher.py:16: VisibleDeprecationWarning: Creating an ndarray from ragged nested sequences (which is a list-or-tuple of lists-or-tuples-or ndarrays with different lengths or shapes) is deprecated. If you meant to do this, you must specify 'dtype=object' when creating the ndarray\n",
            "  app.launch_new_instance()\n"
          ],
          "name": "stderr"
        }
      ]
    },
    {
      "cell_type": "code",
      "metadata": {
        "colab": {
          "base_uri": "https://localhost:8080/",
          "height": 265
        },
        "id": "aApPjg8fHLrF",
        "outputId": "b394b7de-0931-4c58-eadf-c17d1946c52b"
      },
      "source": [
        "plt.imshow(data[50][0],cmap = 'gray')\r\n",
        "plt.axis('off')\r\n",
        "print(labels[data[50][1]])"
      ],
      "execution_count": null,
      "outputs": [
        {
          "output_type": "stream",
          "text": [
            "chest\n"
          ],
          "name": "stdout"
        },
        {
          "output_type": "display_data",
          "data": {
            "image/png": "[encoded data removed]",
            "text/plain": [
              "<Figure size 432x288 with 1 Axes>"
            ]
          },
          "metadata": {
            "tags": [],
            "needs_background": "light"
          }
        }
      ]
    },
    {
      "cell_type": "code",
      "metadata": {
        "id": "-N6y75yEHQVr"
      },
      "source": [
        "X = []\r\n",
        "y = []\r\n",
        "\r\n",
        "for feature, label in data:\r\n",
        "    X.append(feature)\r\n",
        "    y.append(label)\r\n",
        "\r\n",
        "\r\n",
        "\r\n",
        "# resize data for deep learning \r\n",
        "X = np.array(X).reshape(-1, img_size, img_size, 1)\r\n",
        "y = np.array(y)\r\n",
        "\r\n",
        "X_train, X_test, y_train, y_test = train_test_split(X, y, test_size=0.2, random_state=32)"
      ],
      "execution_count": null,
      "outputs": []
    },
    {
      "cell_type": "code",
      "metadata": {
        "id": "7-C4ReKwwDZe"
      },
      "source": [
        ""
      ],
      "execution_count": null,
      "outputs": []
    },
    {
      "cell_type": "code",
      "metadata": {
        "id": "t2pRzqzcHVbP"
      },
      "source": [
        "X_train = X_train / 255\r\n",
        "X_test = X_test / 255\r\n"
      ],
      "execution_count": null,
      "outputs": []
    },
    {
      "cell_type": "code",
      "metadata": {
        "colab": {
          "base_uri": "https://localhost:8080/"
        },
        "id": "pB9GKUSxtGG4",
        "outputId": "f2bf3310-6414-4c07-8a2b-22b9ad6ffdbd"
      },
      "source": [
        "X_test.shape\r\n"
      ],
      "execution_count": null,
      "outputs": [
        {
          "output_type": "execute_result",
          "data": {
            "text/plain": [
              "(50, 50, 1)"
            ]
          },
          "metadata": {
            "tags": []
          },
          "execution_count": 23
        }
      ]
    },
    {
      "cell_type": "code",
      "metadata": {
        "id": "O8L3I2jYtTYK"
      },
      "source": [
        "\r\n"
      ],
      "execution_count": null,
      "outputs": []
    },
    {
      "cell_type": "code",
      "metadata": {
        "id": "Zk4TwtvMuARV"
      },
      "source": [
        ""
      ],
      "execution_count": null,
      "outputs": []
    },
    {
      "cell_type": "code",
      "metadata": {
        "colab": {
          "base_uri": "https://localhost:8080/"
        },
        "id": "flWfOl3PvSng",
        "outputId": "6fd64807-6b84-45c3-d556-ef3bd7fd4e39"
      },
      "source": [
        "X_test.shape"
      ],
      "execution_count": null,
      "outputs": [
        {
          "output_type": "execute_result",
          "data": {
            "text/plain": [
              "(1, 50, 50, 1)"
            ]
          },
          "metadata": {
            "tags": []
          },
          "execution_count": 60
        }
      ]
    },
    {
      "cell_type": "code",
      "metadata": {
        "colab": {
          "base_uri": "https://localhost:8080/"
        },
        "id": "hJViAJjkvhBl",
        "outputId": "752e213e-cbcf-4e9a-cc8f-d0ffc25ea1fc"
      },
      "source": [
        "\r\n",
        "X_test"
      ],
      "execution_count": null,
      "outputs": [
        {
          "output_type": "execute_result",
          "data": {
            "text/plain": [
              "<function ndarray.copy>"
            ]
          },
          "metadata": {
            "tags": []
          },
          "execution_count": 76
        }
      ]
    },
    {
      "cell_type": "code",
      "metadata": {
        "id": "fZL6FM0XHYmj"
      },
      "source": [
        "# good for balancing out disproportions in the dataset \r\n",
        "datagen = ImageDataGenerator(\r\n",
        "        featurewise_center=False, \r\n",
        "        samplewise_center=False,  \r\n",
        "        featurewise_std_normalization=False,  \r\n",
        "        samplewise_std_normalization=False,  \r\n",
        "        zca_whitening=False,  \r\n",
        "        rotation_range=90, \r\n",
        "        zoom_range = 0.1, \r\n",
        "        width_shift_range=0.1,  \r\n",
        "        height_shift_range=0.1,  \r\n",
        "        horizontal_flip=True,  \r\n",
        "        vertical_flip=True)  \r\n",
        "\r\n",
        "datagen.fit(X_train)"
      ],
      "execution_count": null,
      "outputs": []
    },
    {
      "cell_type": "code",
      "metadata": {
        "colab": {
          "base_uri": "https://localhost:8080/"
        },
        "id": "KWdKqzSNHf8u",
        "outputId": "03d6b58d-ea52-4a09-c5d5-4066fa277e2a"
      },
      "source": [
        "model = keras.Sequential([\r\n",
        "  keras.layers.Conv2D(input_shape=(50,50,1), filters=8, kernel_size=3, \r\n",
        "                      strides=2, activation='relu', name='Conv1'),\r\n",
        "  keras.layers.Flatten(),\r\n",
        "  keras.layers.Dense(2, activation=tf.nn.softmax, name='Softmax')\r\n",
        "])\r\n",
        "model.summary()\r\n",
        "\r\n",
        "testing = False\r\n",
        "epochs = 5\r\n",
        "\r\n",
        "model.compile(optimizer='adam', \r\n",
        "              loss='sparse_categorical_crossentropy',\r\n",
        "              metrics=['accuracy'])\r\n",
        "model.fit(X_train, y_train, epochs=epochs)\r\n",
        "\r\n",
        "test_loss, test_acc = model.evaluate(X_test, y_test)\r\n",
        "print('\\nTest accuracy: {}'.format(test_acc))"
      ],
      "execution_count": null,
      "outputs": [
        {
          "output_type": "stream",
          "text": [
            "Model: \"sequential_2\"\n",
            "_________________________________________________________________\n",
            "Layer (type)                 Output Shape              Param #   \n",
            "=================================================================\n",
            "Conv1 (Conv2D)               (None, 24, 24, 8)         80        \n",
            "_________________________________________________________________\n",
            "flatten_2 (Flatten)          (None, 4608)              0         \n",
            "_________________________________________________________________\n",
            "Softmax (Dense)              (None, 2)                 9218      \n",
            "=================================================================\n",
            "Total params: 9,298\n",
            "Trainable params: 9,298\n",
            "Non-trainable params: 0\n",
            "_________________________________________________________________\n",
            "Epoch 1/5\n",
            "10/10 [==============================] - 0s 9ms/step - loss: 0.6521 - accuracy: 0.6399\n",
            "Epoch 2/5\n",
            "10/10 [==============================] - 0s 8ms/step - loss: 0.4364 - accuracy: 0.9900\n",
            "Epoch 3/5\n",
            "10/10 [==============================] - 0s 7ms/step - loss: 0.2318 - accuracy: 0.9931\n",
            "Epoch 4/5\n",
            "10/10 [==============================] - 0s 8ms/step - loss: 0.1116 - accuracy: 0.9925\n",
            "Epoch 5/5\n",
            "10/10 [==============================] - 0s 7ms/step - loss: 0.0632 - accuracy: 0.9876\n",
            "3/3 [==============================] - 0s 5ms/step - loss: 0.0240 - accuracy: 1.0000\n",
            "\n",
            "Test accuracy: 1.0\n"
          ],
          "name": "stdout"
        }
      ]
    },
    {
      "cell_type": "code",
      "metadata": {
        "colab": {
          "base_uri": "https://localhost:8080/"
        },
        "id": "ZJ4BUMQhHieN",
        "outputId": "cc01eed0-6a79-4406-f54b-fe5781ca61bb"
      },
      "source": [
        "print(model.predict(X_test))"
      ],
      "execution_count": null,
      "outputs": [
        {
          "output_type": "stream",
          "text": [
            "[[0.00649031 0.9935097 ]\n",
            " [0.00568572 0.99431425]\n",
            " [0.99106467 0.0089354 ]\n",
            " [0.9209912  0.07900877]\n",
            " [0.92419547 0.07580451]\n",
            " [0.03548675 0.96451324]\n",
            " [0.12676288 0.8732371 ]\n",
            " [0.00705578 0.9929442 ]\n",
            " [0.00378222 0.9962178 ]\n",
            " [0.00561054 0.9943895 ]\n",
            " [0.00712999 0.99287003]\n",
            " [0.01274426 0.9872557 ]\n",
            " [0.00401911 0.99598086]\n",
            " [0.9867605  0.01323953]\n",
            " [0.01426581 0.9857342 ]\n",
            " [0.04348541 0.9565146 ]\n",
            " [0.89267576 0.10732426]\n",
            " [0.00543868 0.9945614 ]\n",
            " [0.9107116  0.08928846]\n",
            " [0.9872251  0.01277491]\n",
            " [0.016229   0.98377097]\n",
            " [0.00699432 0.9930057 ]\n",
            " [0.99043536 0.00956469]\n",
            " [0.00803761 0.9919624 ]\n",
            " [0.9286456  0.0713544 ]\n",
            " [0.9671148  0.03288513]\n",
            " [0.0032593  0.99674076]\n",
            " [0.9013359  0.09866408]\n",
            " [0.9751575  0.02484249]\n",
            " [0.00828683 0.99171317]\n",
            " [0.00302373 0.99697626]\n",
            " [0.00543849 0.9945615 ]\n",
            " [0.99203473 0.00796523]\n",
            " [0.99384487 0.00615511]\n",
            " [0.96148944 0.03851055]\n",
            " [0.98848253 0.01151749]\n",
            " [0.00828683 0.99171317]\n",
            " [0.01299957 0.9870004 ]\n",
            " [0.07015727 0.92984277]\n",
            " [0.00490639 0.9950936 ]\n",
            " [0.00613859 0.99386144]\n",
            " [0.00972623 0.9902738 ]\n",
            " [0.00303726 0.9969627 ]\n",
            " [0.00801376 0.9919863 ]\n",
            " [0.99224746 0.00775258]\n",
            " [0.00473705 0.995263  ]\n",
            " [0.00402316 0.99597687]\n",
            " [0.8991859  0.10081407]\n",
            " [0.9764762  0.02352385]\n",
            " [0.00908859 0.9909114 ]\n",
            " [0.00281869 0.9971813 ]\n",
            " [0.00197578 0.9980242 ]\n",
            " [0.02824611 0.9717539 ]\n",
            " [0.00927257 0.9907274 ]\n",
            " [0.00571106 0.9942889 ]\n",
            " [0.01204469 0.98795533]\n",
            " [0.00319496 0.9968051 ]\n",
            " [0.01002434 0.98997563]\n",
            " [0.02523272 0.9747672 ]\n",
            " [0.00602857 0.9939714 ]\n",
            " [0.01477907 0.98522085]\n",
            " [0.9650283  0.0349717 ]\n",
            " [0.00745862 0.9925413 ]\n",
            " [0.00378265 0.9962173 ]\n",
            " [0.99538285 0.00461717]\n",
            " [0.00819823 0.9918018 ]\n",
            " [0.00398925 0.9960108 ]\n",
            " [0.01177023 0.98822975]\n",
            " [0.13483506 0.86516494]\n",
            " [0.01080111 0.98919886]\n",
            " [0.01994599 0.9800541 ]\n",
            " [0.98452735 0.01547268]\n",
            " [0.94708824 0.05291171]\n",
            " [0.9893266  0.01067341]\n",
            " [0.01064188 0.98935807]]\n"
          ],
          "name": "stdout"
        }
      ]
    },
    {
      "cell_type": "code",
      "metadata": {
        "id": "ypAsBDHi2PHR"
      },
      "source": [
        "X_test = X_test[0]"
      ],
      "execution_count": null,
      "outputs": []
    },
    {
      "cell_type": "code",
      "metadata": {
        "colab": {
          "base_uri": "https://localhost:8080/"
        },
        "id": "P3zNajKo2V8r",
        "outputId": "f9486507-7e23-47e4-8e8b-ea1ae8df80e5"
      },
      "source": [
        "X_test = np.expand_dims(X_test, axis=0)\r\n",
        "print(model.predict(X_test))"
      ],
      "execution_count": null,
      "outputs": [
        {
          "output_type": "stream",
          "text": [
            "[[0.00649031 0.9935097 ]]\n"
          ],
          "name": "stdout"
        }
      ]
    },
    {
      "cell_type": "code",
      "metadata": {
        "colab": {
          "base_uri": "https://localhost:8080/"
        },
        "id": "-KQpUGveHvp4",
        "outputId": "822f5bf1-efb5-4ef4-ae0f-35d6475d5293"
      },
      "source": [
        "print('\\u2022 Using TensorFlow Version:', tf.__version__)"
      ],
      "execution_count": null,
      "outputs": [
        {
          "output_type": "stream",
          "text": [
            "• Using TensorFlow Version: 2.4.1\n"
          ],
          "name": "stdout"
        }
      ]
    },
    {
      "cell_type": "code",
      "metadata": {
        "colab": {
          "base_uri": "https://localhost:8080/"
        },
        "id": "oUZllzuWH7Fd",
        "outputId": "fab402c2-6c91-4635-ee71-d22c1ce7ea27"
      },
      "source": [
        "import time\r\n",
        "saved_model_path = \"/tmp/{}\".format(int(time.time()))\r\n",
        "model.save(saved_model_path)"
      ],
      "execution_count": null,
      "outputs": [
        {
          "output_type": "stream",
          "text": [
            "INFO:tensorflow:Assets written to: /tmp/1613730661/assets\n"
          ],
          "name": "stdout"
        }
      ]
    },
    {
      "cell_type": "code",
      "metadata": {
        "id": "zCgjlr3wI2Wq"
      },
      "source": [
        "import time\r\n",
        "saved_model_path = \"tmp/{}.h5\".format(int(time.time()))\r\n",
        "\r\n",
        "model.save(saved_model_path)"
      ],
      "execution_count": null,
      "outputs": []
    },
    {
      "cell_type": "code",
      "metadata": {
        "colab": {
          "base_uri": "https://localhost:8080/"
        },
        "id": "sfCe-yMZH9yi",
        "outputId": "fcb5ed0e-f491-447f-bd2a-5c6c53bc631b"
      },
      "source": [
        "!tensorflowjs_converter --input_format=keras {saved_model_path} ./"
      ],
      "execution_count": null,
      "outputs": [
        {
          "output_type": "stream",
          "text": [
            "2021-02-19 10:31:22.267887: I tensorflow/stream_executor/platform/default/dso_loader.cc:49] Successfully opened dynamic library libcudart.so.10.1\n"
          ],
          "name": "stdout"
        }
      ]
    },
    {
      "cell_type": "code",
      "metadata": {
        "id": "OZWPj8ZSIdrs"
      },
      "source": [
        "def get_training_data(data_dir):\r\n",
        "    data = [] \r\n",
        "    for label in labels: \r\n",
        "        path = os.path.join(data_dir, label)\r\n",
        "        class_num = labels.index(label)\r\n",
        "        for img in os.listdir(path):\r\n",
        "            try:\r\n",
        "                img_arr = cv2.imread(os.path.join(path, img), cv2.IMREAD_GRAYSCALE)\r\n",
        "                resized_arr = cv2.resize(img_arr, (img_size, img_size))\r\n",
        "                data.append([resized_arr, class_num])\r\n",
        "            except Exception as e:\r\n",
        "                print(e)\r\n",
        "    return np.array(data)"
      ],
      "execution_count": null,
      "outputs": []
    }
  ]
}