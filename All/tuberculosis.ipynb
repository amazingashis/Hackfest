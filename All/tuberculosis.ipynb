{
  "nbformat": 4,
  "nbformat_minor": 0,
  "metadata": {
    "colab": {
      "name": "tuberculosis.ipynb",
      "provenance": [],
      "mount_file_id": "1bLnk8e8VooDxI7BlO_1UnGA_Xiqc6Gmw",
      "authorship_tag": "ABX9TyOcrp5ToJ526vxmv/Fa25wM",
      "include_colab_link": true
    },
    "kernelspec": {
      "name": "python3",
      "display_name": "Python 3"
    }
  },
  "cells": [
    {
      "cell_type": "markdown",
      "metadata": {
        "id": "view-in-github",
        "colab_type": "text"
      },
      "source": [
        "<a href=\"https://colab.research.google.com/github/amazingashis/Hackfest/blob/master/tuberculosis.ipynb\" target=\"_parent\"><img src=\"https://colab.research.google.com/assets/colab-badge.svg\" alt=\"Open In Colab\"/></a>"
      ]
    },
    {
      "cell_type": "code",
      "metadata": {
        "colab": {
          "base_uri": "https://localhost:8080/"
        },
        "id": "Dq31H2VGPOIg",
        "outputId": "4d38c864-ebd2-42f4-dfa1-7b9ec89ecc78"
      },
      "source": [
        "import matplotlib.pyplot as plt\r\n",
        "import tensorflow as tf \r\n",
        "from tensorflow import keras \r\n",
        "from tensorflow.keras.models import Sequential\r\n",
        "from tensorflow.keras.layers import Dense, Activation, Conv2D, MaxPooling2D, Flatten, Dropout, BatchNormalization\r\n",
        "from tensorflow.keras.optimizers import Adam\r\n",
        "from tensorflow.keras.callbacks import EarlyStopping\r\n",
        "from tensorflow.keras.preprocessing.image import ImageDataGenerator\r\n",
        "from sklearn.metrics import precision_recall_curve, roc_curve, accuracy_score, confusion_matrix, precision_score, recall_score\r\n",
        "from sklearn.decomposition import PCA\r\n",
        "from sklearn.model_selection import train_test_split\r\n",
        "import matplotlib.pyplot as plt \r\n",
        "import seaborn as sns \r\n",
        "plt.style.use('fivethirtyeight')\r\n",
        "import pickle \r\n",
        "import os \r\n",
        "import numpy as np\r\n",
        "import cv2 \r\n",
        "%matplotlib inline\r\n",
        "import pandas.util.testing as tm"
      ],
      "execution_count": null,
      "outputs": [
        {
          "output_type": "stream",
          "text": [
            "/usr/local/lib/python3.6/dist-packages/ipykernel_launcher.py:20: FutureWarning: pandas.util.testing is deprecated. Use the functions in the public API at pandas.testing instead.\n"
          ],
          "name": "stderr"
        }
      ]
    },
    {
      "cell_type": "code",
      "metadata": {
        "id": "toqy2gY6UFIf"
      },
      "source": [
        "labels = ['Yes', 'No']\r\n",
        "img_size = 200\r\n",
        "def get_training_data(data_dir):\r\n",
        "    data = [] \r\n",
        "    for label in labels: \r\n",
        "        path = os.path.join(data_dir, label)\r\n",
        "        class_num = labels.index(label)\r\n",
        "        for img in os.listdir(path):\r\n",
        "            try:\r\n",
        "                img_arr = cv2.imread(os.path.join(path, img), cv2.IMREAD_GRAYSCALE)\r\n",
        "                resized_arr = cv2.resize(img_arr, (img_size, img_size))\r\n",
        "                data.append([resized_arr, class_num])\r\n",
        "            except Exception as e:\r\n",
        "                print(e)\r\n",
        "    return np.array(data)"
      ],
      "execution_count": 4,
      "outputs": []
    },
    {
      "cell_type": "code",
      "metadata": {
        "id": "9JWZGmXNUKg-",
        "colab": {
          "base_uri": "https://localhost:8080/"
        },
        "outputId": "262697f4-ef75-47e7-f315-9117b7b83911"
      },
      "source": [
        "data = get_training_data('/content/drive/MyDrive/Data/data/Tuber-data')"
      ],
      "execution_count": 5,
      "outputs": [
        {
          "output_type": "stream",
          "text": [
            "/usr/local/lib/python3.6/dist-packages/ipykernel_launcher.py:15: VisibleDeprecationWarning: Creating an ndarray from ragged nested sequences (which is a list-or-tuple of lists-or-tuples-or ndarrays with different lengths or shapes) is deprecated. If you meant to do this, you must specify 'dtype=object' when creating the ndarray\n",
            "  from ipykernel import kernelapp as app\n"
          ],
          "name": "stderr"
        }
      ]
    },
    {
      "cell_type": "code",
      "metadata": {
        "id": "O5db6D2JULdP"
      },
      "source": [
        "X = []\r\n",
        "y = []\r\n",
        "\r\n",
        "for feature, label in data:\r\n",
        "    X.append(feature)\r\n",
        "    y.append(label)\r\n",
        "\r\n",
        "\r\n",
        "\r\n",
        "# resize data for deep learning \r\n",
        "X = np.array(X).reshape(-1, img_size, img_size, 1)\r\n",
        "y = np.array(y)\r\n",
        "\r\n",
        "X_train, X_test, y_train, y_test = train_test_split(X, y, test_size=0.2, random_state=32)"
      ],
      "execution_count": 6,
      "outputs": []
    },
    {
      "cell_type": "code",
      "metadata": {
        "id": "KYzoW4Vjbcv8"
      },
      "source": [
        "X_train = X_train / 255\r\n",
        "X_test = X_test / 255"
      ],
      "execution_count": 7,
      "outputs": []
    },
    {
      "cell_type": "code",
      "metadata": {
        "id": "UZWxOn8vbgOb"
      },
      "source": [
        "# good for balancing out disproportions in the dataset \r\n",
        "datagen = ImageDataGenerator(\r\n",
        "        featurewise_center=False, \r\n",
        "        samplewise_center=False,  \r\n",
        "        featurewise_std_normalization=False,  \r\n",
        "        samplewise_std_normalization=False,  \r\n",
        "        zca_whitening=False,  \r\n",
        "        rotation_range=90, \r\n",
        "        zoom_range = 0.1, \r\n",
        "        width_shift_range=0.1,  \r\n",
        "        height_shift_range=0.1,  \r\n",
        "        horizontal_flip=True,  \r\n",
        "        vertical_flip=True)  \r\n",
        "\r\n",
        "datagen.fit(X_train)"
      ],
      "execution_count": 8,
      "outputs": []
    },
    {
      "cell_type": "code",
      "metadata": {
        "colab": {
          "base_uri": "https://localhost:8080/"
        },
        "id": "Ji1UEZuubisD",
        "outputId": "01dc56db-c317-4425-e345-5ea6e480116a"
      },
      "source": [
        "model = keras.Sequential([\r\n",
        "  keras.layers.Conv2D(input_shape=(200,200,1), filters=8, kernel_size=3, \r\n",
        "                      strides=2, activation='relu', name='Conv1'),\r\n",
        "  keras.layers.Flatten(),\r\n",
        "  keras.layers.Dense(2, activation=tf.nn.softmax, name='Softmax')\r\n",
        "])\r\n",
        "model.summary()\r\n",
        "\r\n",
        "testing = False\r\n",
        "epochs = 15\r\n",
        "\r\n",
        "model.compile(optimizer='adam', \r\n",
        "              loss='sparse_categorical_crossentropy',\r\n",
        "              metrics=['accuracy'])\r\n",
        "model.fit(X_train, y_train, epochs=epochs)\r\n",
        "\r\n",
        "test_loss, test_acc = model.evaluate(X_test, y_test)\r\n",
        "print('\\nTest accuracy: {}'.format(test_acc))"
      ],
      "execution_count": 9,
      "outputs": [
        {
          "output_type": "stream",
          "text": [
            "Model: \"sequential\"\n",
            "_________________________________________________________________\n",
            "Layer (type)                 Output Shape              Param #   \n",
            "=================================================================\n",
            "Conv1 (Conv2D)               (None, 99, 99, 8)         80        \n",
            "_________________________________________________________________\n",
            "flatten (Flatten)            (None, 78408)             0         \n",
            "_________________________________________________________________\n",
            "Softmax (Dense)              (None, 2)                 156818    \n",
            "=================================================================\n",
            "Total params: 156,898\n",
            "Trainable params: 156,898\n",
            "Non-trainable params: 0\n",
            "_________________________________________________________________\n",
            "Epoch 1/15\n",
            "6/6 [==============================] - 1s 64ms/step - loss: 2.9981 - accuracy: 0.4955\n",
            "Epoch 2/15\n",
            "6/6 [==============================] - 0s 63ms/step - loss: 1.4030 - accuracy: 0.5100\n",
            "Epoch 3/15\n",
            "6/6 [==============================] - 0s 65ms/step - loss: 1.0550 - accuracy: 0.4846\n",
            "Epoch 4/15\n",
            "6/6 [==============================] - 0s 64ms/step - loss: 0.8007 - accuracy: 0.5422\n",
            "Epoch 5/15\n",
            "6/6 [==============================] - 0s 64ms/step - loss: 0.5426 - accuracy: 0.7771\n",
            "Epoch 6/15\n",
            "6/6 [==============================] - 0s 66ms/step - loss: 0.4648 - accuracy: 0.8147\n",
            "Epoch 7/15\n",
            "6/6 [==============================] - 0s 64ms/step - loss: 0.3880 - accuracy: 0.8844\n",
            "Epoch 8/15\n",
            "6/6 [==============================] - 0s 65ms/step - loss: 0.3587 - accuracy: 0.8653\n",
            "Epoch 9/15\n",
            "6/6 [==============================] - 0s 63ms/step - loss: 0.3595 - accuracy: 0.8899\n",
            "Epoch 10/15\n",
            "6/6 [==============================] - 0s 63ms/step - loss: 0.3295 - accuracy: 0.8981\n",
            "Epoch 11/15\n",
            "6/6 [==============================] - 0s 65ms/step - loss: 0.2988 - accuracy: 0.8851\n",
            "Epoch 12/15\n",
            "6/6 [==============================] - 0s 66ms/step - loss: 0.2674 - accuracy: 0.9076\n",
            "Epoch 13/15\n",
            "6/6 [==============================] - 0s 65ms/step - loss: 0.2047 - accuracy: 0.9780\n",
            "Epoch 14/15\n",
            "6/6 [==============================] - 0s 64ms/step - loss: 0.2031 - accuracy: 0.9641\n",
            "Epoch 15/15\n",
            "6/6 [==============================] - 0s 63ms/step - loss: 0.2001 - accuracy: 0.9654\n",
            "2/2 [==============================] - 0s 18ms/step - loss: 0.4246 - accuracy: 0.8298\n",
            "\n",
            "Test accuracy: 0.8297872543334961\n"
          ],
          "name": "stdout"
        }
      ]
    },
    {
      "cell_type": "code",
      "metadata": {
        "colab": {
          "base_uri": "https://localhost:8080/"
        },
        "id": "rCc96XZtblFA",
        "outputId": "5796a577-3190-4b6a-f2b3-bd75e4951397"
      },
      "source": [
        "print(model.predict(X_test))"
      ],
      "execution_count": 13,
      "outputs": [
        {
          "output_type": "stream",
          "text": [
            "[[0.91215384 0.08784613]\n",
            " [0.7986131  0.20138685]\n",
            " [0.33259463 0.66740537]\n",
            " [0.08491125 0.9150888 ]\n",
            " [0.5891039  0.41089615]\n",
            " [0.3393489  0.6606511 ]\n",
            " [0.43723246 0.56276757]\n",
            " [0.79458463 0.20541537]\n",
            " [0.02829581 0.97170424]\n",
            " [0.01407258 0.98592746]\n",
            " [0.25851336 0.7414866 ]\n",
            " [0.8754203  0.12457977]\n",
            " [0.88788426 0.11211568]\n",
            " [0.14011844 0.8598816 ]\n",
            " [0.3266466  0.6733534 ]\n",
            " [0.71510804 0.28489193]\n",
            " [0.12970413 0.8702959 ]\n",
            " [0.85513383 0.14486621]\n",
            " [0.9439561  0.05604391]\n",
            " [0.25779554 0.7422045 ]\n",
            " [0.09344793 0.906552  ]\n",
            " [0.933435   0.06656497]\n",
            " [0.6715925  0.32840753]\n",
            " [0.07010552 0.9298945 ]\n",
            " [0.8102596  0.18974033]\n",
            " [0.19723807 0.802762  ]\n",
            " [0.83368164 0.16631842]\n",
            " [0.13610606 0.8638939 ]\n",
            " [0.9317803  0.06821973]\n",
            " [0.14236249 0.85763747]\n",
            " [0.9348065  0.06519352]\n",
            " [0.21001719 0.7899828 ]\n",
            " [0.13122946 0.8687705 ]\n",
            " [0.91115326 0.08884677]\n",
            " [0.35620585 0.6437941 ]\n",
            " [0.92841136 0.07158867]\n",
            " [0.84428024 0.15571982]\n",
            " [0.03219889 0.96780115]\n",
            " [0.93446386 0.06553612]\n",
            " [0.37871334 0.6212867 ]\n",
            " [0.18947649 0.8105235 ]\n",
            " [0.83254856 0.16745138]\n",
            " [0.14854942 0.8514505 ]\n",
            " [0.957357   0.04264297]\n",
            " [0.5625455  0.43745455]\n",
            " [0.16349386 0.8365061 ]\n",
            " [0.20448712 0.7955129 ]]\n"
          ],
          "name": "stdout"
        }
      ]
    },
    {
      "cell_type": "code",
      "metadata": {
        "colab": {
          "base_uri": "https://localhost:8080/"
        },
        "id": "m-KcIz__bm9K",
        "outputId": "6fb236ab-02c2-42e1-e620-ddd544b68aa8"
      },
      "source": [
        "!pip install tensorflowjs"
      ],
      "execution_count": 11,
      "outputs": [
        {
          "output_type": "stream",
          "text": [
            "Requirement already satisfied: tensorflowjs in /usr/local/lib/python3.6/dist-packages (3.1.0)\n",
            "Requirement already satisfied: six<2,>=1.12.0 in /usr/local/lib/python3.6/dist-packages (from tensorflowjs) (1.15.0)\n",
            "Requirement already satisfied: tensorflow-hub<0.10,>=0.7.0 in /usr/local/lib/python3.6/dist-packages (from tensorflowjs) (0.9.0)\n",
            "Requirement already satisfied: tensorflow<3,>=2.1.0 in /usr/local/lib/python3.6/dist-packages (from tensorflowjs) (2.4.1)\n",
            "Requirement already satisfied: h5py<3,>=2.8.0 in /usr/local/lib/python3.6/dist-packages (from tensorflowjs) (2.10.0)\n",
            "Requirement already satisfied: protobuf>=3.8.0 in /usr/local/lib/python3.6/dist-packages (from tensorflow-hub<0.10,>=0.7.0->tensorflowjs) (3.12.4)\n",
            "Requirement already satisfied: numpy>=1.12.0 in /usr/local/lib/python3.6/dist-packages (from tensorflow-hub<0.10,>=0.7.0->tensorflowjs) (1.19.5)\n",
            "Requirement already satisfied: termcolor~=1.1.0 in /usr/local/lib/python3.6/dist-packages (from tensorflow<3,>=2.1.0->tensorflowjs) (1.1.0)\n",
            "Requirement already satisfied: wrapt~=1.12.1 in /usr/local/lib/python3.6/dist-packages (from tensorflow<3,>=2.1.0->tensorflowjs) (1.12.1)\n",
            "Requirement already satisfied: astunparse~=1.6.3 in /usr/local/lib/python3.6/dist-packages (from tensorflow<3,>=2.1.0->tensorflowjs) (1.6.3)\n",
            "Requirement already satisfied: gast==0.3.3 in /usr/local/lib/python3.6/dist-packages (from tensorflow<3,>=2.1.0->tensorflowjs) (0.3.3)\n",
            "Requirement already satisfied: grpcio~=1.32.0 in /usr/local/lib/python3.6/dist-packages (from tensorflow<3,>=2.1.0->tensorflowjs) (1.32.0)\n",
            "Requirement already satisfied: wheel~=0.35 in /usr/local/lib/python3.6/dist-packages (from tensorflow<3,>=2.1.0->tensorflowjs) (0.36.2)\n",
            "Requirement already satisfied: tensorflow-estimator<2.5.0,>=2.4.0 in /usr/local/lib/python3.6/dist-packages (from tensorflow<3,>=2.1.0->tensorflowjs) (2.4.0)\n",
            "Requirement already satisfied: absl-py~=0.10 in /usr/local/lib/python3.6/dist-packages (from tensorflow<3,>=2.1.0->tensorflowjs) (0.10.0)\n",
            "Requirement already satisfied: google-pasta~=0.2 in /usr/local/lib/python3.6/dist-packages (from tensorflow<3,>=2.1.0->tensorflowjs) (0.2.0)\n",
            "Requirement already satisfied: keras-preprocessing~=1.1.2 in /usr/local/lib/python3.6/dist-packages (from tensorflow<3,>=2.1.0->tensorflowjs) (1.1.2)\n",
            "Requirement already satisfied: typing-extensions~=3.7.4 in /usr/local/lib/python3.6/dist-packages (from tensorflow<3,>=2.1.0->tensorflowjs) (3.7.4.3)\n",
            "Requirement already satisfied: opt-einsum~=3.3.0 in /usr/local/lib/python3.6/dist-packages (from tensorflow<3,>=2.1.0->tensorflowjs) (3.3.0)\n",
            "Requirement already satisfied: tensorboard~=2.4 in /usr/local/lib/python3.6/dist-packages (from tensorflow<3,>=2.1.0->tensorflowjs) (2.4.1)\n",
            "Requirement already satisfied: flatbuffers~=1.12.0 in /usr/local/lib/python3.6/dist-packages (from tensorflow<3,>=2.1.0->tensorflowjs) (1.12)\n",
            "Requirement already satisfied: setuptools in /usr/local/lib/python3.6/dist-packages (from protobuf>=3.8.0->tensorflow-hub<0.10,>=0.7.0->tensorflowjs) (53.0.0)\n",
            "Requirement already satisfied: google-auth<2,>=1.6.3 in /usr/local/lib/python3.6/dist-packages (from tensorboard~=2.4->tensorflow<3,>=2.1.0->tensorflowjs) (1.25.0)\n",
            "Requirement already satisfied: google-auth-oauthlib<0.5,>=0.4.1 in /usr/local/lib/python3.6/dist-packages (from tensorboard~=2.4->tensorflow<3,>=2.1.0->tensorflowjs) (0.4.2)\n",
            "Requirement already satisfied: markdown>=2.6.8 in /usr/local/lib/python3.6/dist-packages (from tensorboard~=2.4->tensorflow<3,>=2.1.0->tensorflowjs) (3.3.3)\n",
            "Requirement already satisfied: tensorboard-plugin-wit>=1.6.0 in /usr/local/lib/python3.6/dist-packages (from tensorboard~=2.4->tensorflow<3,>=2.1.0->tensorflowjs) (1.8.0)\n",
            "Requirement already satisfied: werkzeug>=0.11.15 in /usr/local/lib/python3.6/dist-packages (from tensorboard~=2.4->tensorflow<3,>=2.1.0->tensorflowjs) (1.0.1)\n",
            "Requirement already satisfied: requests<3,>=2.21.0 in /usr/local/lib/python3.6/dist-packages (from tensorboard~=2.4->tensorflow<3,>=2.1.0->tensorflowjs) (2.23.0)\n",
            "Requirement already satisfied: pyasn1-modules>=0.2.1 in /usr/local/lib/python3.6/dist-packages (from google-auth<2,>=1.6.3->tensorboard~=2.4->tensorflow<3,>=2.1.0->tensorflowjs) (0.2.8)\n",
            "Requirement already satisfied: rsa<5,>=3.1.4; python_version >= \"3.6\" in /usr/local/lib/python3.6/dist-packages (from google-auth<2,>=1.6.3->tensorboard~=2.4->tensorflow<3,>=2.1.0->tensorflowjs) (4.7)\n",
            "Requirement already satisfied: cachetools<5.0,>=2.0.0 in /usr/local/lib/python3.6/dist-packages (from google-auth<2,>=1.6.3->tensorboard~=2.4->tensorflow<3,>=2.1.0->tensorflowjs) (4.2.1)\n",
            "Requirement already satisfied: requests-oauthlib>=0.7.0 in /usr/local/lib/python3.6/dist-packages (from google-auth-oauthlib<0.5,>=0.4.1->tensorboard~=2.4->tensorflow<3,>=2.1.0->tensorflowjs) (1.3.0)\n",
            "Requirement already satisfied: importlib-metadata; python_version < \"3.8\" in /usr/local/lib/python3.6/dist-packages (from markdown>=2.6.8->tensorboard~=2.4->tensorflow<3,>=2.1.0->tensorflowjs) (3.4.0)\n",
            "Requirement already satisfied: idna<3,>=2.5 in /usr/local/lib/python3.6/dist-packages (from requests<3,>=2.21.0->tensorboard~=2.4->tensorflow<3,>=2.1.0->tensorflowjs) (2.10)\n",
            "Requirement already satisfied: chardet<4,>=3.0.2 in /usr/local/lib/python3.6/dist-packages (from requests<3,>=2.21.0->tensorboard~=2.4->tensorflow<3,>=2.1.0->tensorflowjs) (3.0.4)\n",
            "Requirement already satisfied: urllib3!=1.25.0,!=1.25.1,<1.26,>=1.21.1 in /usr/local/lib/python3.6/dist-packages (from requests<3,>=2.21.0->tensorboard~=2.4->tensorflow<3,>=2.1.0->tensorflowjs) (1.24.3)\n",
            "Requirement already satisfied: certifi>=2017.4.17 in /usr/local/lib/python3.6/dist-packages (from requests<3,>=2.21.0->tensorboard~=2.4->tensorflow<3,>=2.1.0->tensorflowjs) (2020.12.5)\n",
            "Requirement already satisfied: pyasn1<0.5.0,>=0.4.6 in /usr/local/lib/python3.6/dist-packages (from pyasn1-modules>=0.2.1->google-auth<2,>=1.6.3->tensorboard~=2.4->tensorflow<3,>=2.1.0->tensorflowjs) (0.4.8)\n",
            "Requirement already satisfied: oauthlib>=3.0.0 in /usr/local/lib/python3.6/dist-packages (from requests-oauthlib>=0.7.0->google-auth-oauthlib<0.5,>=0.4.1->tensorboard~=2.4->tensorflow<3,>=2.1.0->tensorflowjs) (3.1.0)\n",
            "Requirement already satisfied: zipp>=0.5 in /usr/local/lib/python3.6/dist-packages (from importlib-metadata; python_version < \"3.8\"->markdown>=2.6.8->tensorboard~=2.4->tensorflow<3,>=2.1.0->tensorflowjs) (3.4.0)\n"
          ],
          "name": "stdout"
        }
      ]
    },
    {
      "cell_type": "code",
      "metadata": {
        "colab": {
          "base_uri": "https://localhost:8080/"
        },
        "id": "9IuBB-YpbndA",
        "outputId": "21b52445-3360-439b-cc6a-6d4ca52e5197"
      },
      "source": [
        ""
      ],
      "execution_count": 14,
      "outputs": [
        {
          "output_type": "stream",
          "text": [
            "INFO:tensorflow:Assets written to: /tmp/1613842481/assets\n"
          ],
          "name": "stdout"
        }
      ]
    },
    {
      "cell_type": "code",
      "metadata": {
        "id": "cJRQywm5gwOa"
      },
      "source": [
        "import time\r\n",
        "saved_model_path = \"tmp/{}.h5\".format(int(time.time()))\r\n",
        "\r\n",
        "model.save(saved_model_path)"
      ],
      "execution_count": 16,
      "outputs": []
    },
    {
      "cell_type": "code",
      "metadata": {
        "colab": {
          "base_uri": "https://localhost:8080/"
        },
        "id": "Eh87EIJYbs6C",
        "outputId": "e58d9fc8-9fad-4cd4-f83f-e21ee783f9b2"
      },
      "source": [
        "!tensorflowjs_converter --input_format=keras {saved_model_path} ./"
      ],
      "execution_count": 17,
      "outputs": [
        {
          "output_type": "stream",
          "text": [
            "2021-02-20 17:35:56.127748: I tensorflow/stream_executor/platform/default/dso_loader.cc:49] Successfully opened dynamic library libcudart.so.10.1\n"
          ],
          "name": "stdout"
        }
      ]
    },
    {
      "cell_type": "code",
      "metadata": {
        "id": "_RpyK-RrginJ"
      },
      "source": [
        ""
      ],
      "execution_count": null,
      "outputs": []
    }
  ]
}