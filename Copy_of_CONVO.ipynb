{
  "nbformat": 4,
  "nbformat_minor": 0,
  "metadata": {
    "colab": {
      "name": "Copy of CONVO.ipynb",
      "provenance": [],
      "mount_file_id": "1obHfHtVj1rxSUX2meS-M0_ql-i3ynBNV",
      "authorship_tag": "ABX9TyNoNdr9Gqx2IgeGotliSjGl",
      "include_colab_link": true
    },
    "kernelspec": {
      "name": "python3",
      "display_name": "Python 3"
    }
  },
  "cells": [
    {
      "cell_type": "markdown",
      "metadata": {
        "id": "view-in-github",
        "colab_type": "text"
      },
      "source": [
        "<a href=\"https://colab.research.google.com/github/amazingashis/Hackfest/blob/master/Copy_of_CONVO.ipynb\" target=\"_parent\"><img src=\"https://colab.research.google.com/assets/colab-badge.svg\" alt=\"Open In Colab\"/></a>"
      ]
    },
    {
      "cell_type": "code",
      "metadata": {
        "id": "HHAlHancJmB0",
        "colab": {
          "base_uri": "https://localhost:8080/"
        },
        "outputId": "6682e775-a26c-4081-c2ac-f334a11092c7"
      },
      "source": [
        "import matplotlib.pyplot as plt\n",
        "import tensorflow as tf \n",
        "from tensorflow import keras \n",
        "from tensorflow.keras.models import Sequential\n",
        "from tensorflow.keras.layers import Dense, Activation, Conv2D, MaxPooling2D, Flatten, Dropout, BatchNormalization\n",
        "from tensorflow.keras.optimizers import Adam\n",
        "from tensorflow.keras.callbacks import EarlyStopping\n",
        "from tensorflow.keras.preprocessing.image import ImageDataGenerator\n",
        "from sklearn.metrics import precision_recall_curve, roc_curve, accuracy_score, confusion_matrix, precision_score, recall_score\n",
        "from sklearn.decomposition import PCA\n",
        "from sklearn.model_selection import train_test_split\n",
        "import matplotlib.pyplot as plt \n",
        "import seaborn as sns \n",
        "plt.style.use('fivethirtyeight')\n",
        "import pickle \n",
        "import os \n",
        "import numpy as np\n",
        "import cv2 \n",
        "%matplotlib inline\n",
        "import pandas.util.testing as tm"
      ],
      "execution_count": 2,
      "outputs": [
        {
          "output_type": "stream",
          "text": [
            "/usr/local/lib/python3.6/dist-packages/ipykernel_launcher.py:20: FutureWarning: pandas.util.testing is deprecated. Use the functions in the public API at pandas.testing instead.\n"
          ],
          "name": "stderr"
        }
      ]
    },
    {
      "cell_type": "code",
      "metadata": {
        "id": "McnGha3GJ31z"
      },
      "source": [
        "labels = ['PNEUMONIA', 'NORMAL']\n",
        "img_size = 200\n",
        "def get_training_data(data_dir):\n",
        "    data = [] \n",
        "    for label in labels: \n",
        "        path = os.path.join(data_dir, label)\n",
        "        class_num = labels.index(label)\n",
        "        for img in os.listdir(path):\n",
        "            try:\n",
        "                img_arr = cv2.imread(os.path.join(path, img), cv2.IMREAD_GRAYSCALE)\n",
        "                resized_arr = cv2.resize(img_arr, (img_size, img_size))\n",
        "                data.append([resized_arr, class_num])\n",
        "            except Exception as e:\n",
        "                print(e)\n",
        "    return np.array(data)"
      ],
      "execution_count": 4,
      "outputs": []
    },
    {
      "cell_type": "code",
      "metadata": {
        "id": "Hc-mczVYKBzg",
        "colab": {
          "base_uri": "https://localhost:8080/"
        },
        "outputId": "6cc041bb-73e2-448a-fce0-2d46c124fd33"
      },
      "source": [
        "from google.colab import drive\n",
        "drive.mount('/content/drive/')"
      ],
      "execution_count": 1,
      "outputs": [
        {
          "output_type": "stream",
          "text": [
            "Mounted at /content/drive/\n"
          ],
          "name": "stdout"
        }
      ]
    },
    {
      "cell_type": "code",
      "metadata": {
        "id": "nOVRuK7gKmqF",
        "colab": {
          "base_uri": "https://localhost:8080/"
        },
        "outputId": "8c3e9670-f74f-4175-8655-4f5dd81a8870"
      },
      "source": [
        "train = get_training_data('/content/drive/MyDrive/Data/data/chest-xray-pneumonia/chest_xray/train')\n",
        "test = get_training_data('/content/drive/MyDrive/Data/data/chest-xray-pneumonia/chest_xray/test')\n",
        "val = get_training_data('/content/drive/MyDrive/Data/data/chest-xray-pneumonia/chest_xray/val')"
      ],
      "execution_count": 5,
      "outputs": [
        {
          "output_type": "stream",
          "text": [
            "/usr/local/lib/python3.6/dist-packages/ipykernel_launcher.py:15: VisibleDeprecationWarning: Creating an ndarray from ragged nested sequences (which is a list-or-tuple of lists-or-tuples-or ndarrays with different lengths or shapes) is deprecated. If you meant to do this, you must specify 'dtype=object' when creating the ndarray\n",
            "  from ipykernel import kernelapp as app\n"
          ],
          "name": "stderr"
        }
      ]
    },
    {
      "cell_type": "code",
      "metadata": {
        "id": "3rn9-8_gLROE",
        "colab": {
          "base_uri": "https://localhost:8080/"
        },
        "outputId": "2058d673-7046-463b-dbe8-517d4f2acaf0"
      },
      "source": [
        "pnenumonia = 0 \n",
        "normal = 0 \n",
        "\n",
        "for i, j in train:\n",
        "    if j == 0:\n",
        "        pnenumonia+=1\n",
        "    else:\n",
        "        normal+=1\n",
        "        \n",
        "print('Pneumonia:', pnenumonia)\n",
        "print('Normal:', normal)\n",
        "print('Pneumonia - Normal:', pnenumonia-normal)"
      ],
      "execution_count": 6,
      "outputs": [
        {
          "output_type": "stream",
          "text": [
            "Pneumonia: 3875\n",
            "Normal: 1341\n",
            "Pneumonia - Normal: 2534\n"
          ],
          "name": "stdout"
        }
      ]
    },
    {
      "cell_type": "code",
      "metadata": {
        "id": "MZ-l8yCbO-wU",
        "colab": {
          "base_uri": "https://localhost:8080/",
          "height": 265
        },
        "outputId": "c440f7d7-b62f-4b08-a305-ca94b9963f39"
      },
      "source": [
        "plt.imshow(train[500][0],cmap = 'gray')\n",
        "plt.axis('off')\n",
        "print(labels[train[500][1]])"
      ],
      "execution_count": 7,
      "outputs": [
        {
          "output_type": "stream",
          "text": [
            "PNEUMONIA\n"
          ],
          "name": "stdout"
        },
        {
          "output_type": "display_data",
          "data": {
            "image/png": "[encoded data removed]",
            "text/plain": [
              "<Figure size 432x288 with 1 Axes>"
            ]
          },
          "metadata": {
            "tags": [],
            "needs_background": "light"
          }
        }
      ]
    },
    {
      "cell_type": "code",
      "metadata": {
        "id": "HkCHgGZBcmT5"
      },
      "source": [
        "X = []\n",
        "y = []\n",
        "\n",
        "for feature, label in train:\n",
        "    X.append(feature)\n",
        "    y.append(label)\n",
        "\n",
        "for feature, label in test:\n",
        "    X.append(feature)\n",
        "    y.append(label)\n",
        "    \n",
        "for feature, label in val:\n",
        "    X.append(feature)\n",
        "    y.append(label)\n",
        "\n",
        "\n",
        "# resize data for deep learning \n",
        "X = np.array(X).reshape(-1, img_size, img_size, 1)\n",
        "y = np.array(y)\n",
        "\n",
        "X_train, X_test, y_train, y_test = train_test_split(X, y, test_size=0.2, random_state=32)\n",
        "X_train, X_val, y_train, y_val = train_test_split(X_train, y_train, test_size=0.20, random_state=32)"
      ],
      "execution_count": 8,
      "outputs": []
    },
    {
      "cell_type": "code",
      "metadata": {
        "id": "ahVIXMfLcpI5"
      },
      "source": [
        "X_train = X_train / 255\n",
        "X_test = X_test / 255\n",
        "X_val = X_val / 255"
      ],
      "execution_count": 9,
      "outputs": []
    },
    {
      "cell_type": "code",
      "metadata": {
        "id": "M9o1QEuicrju"
      },
      "source": [
        "# good for balancing out disproportions in the dataset \n",
        "datagen = ImageDataGenerator(\n",
        "        featurewise_center=False, \n",
        "        samplewise_center=False,  \n",
        "        featurewise_std_normalization=False,  \n",
        "        samplewise_std_normalization=False,  \n",
        "        zca_whitening=False,  \n",
        "        rotation_range=90, \n",
        "        zoom_range = 0.1, \n",
        "        width_shift_range=0.1,  \n",
        "        height_shift_range=0.1,  \n",
        "        horizontal_flip=True,  \n",
        "        vertical_flip=True)  \n",
        "\n",
        "datagen.fit(X_train)"
      ],
      "execution_count": 10,
      "outputs": []
    },
    {
      "cell_type": "code",
      "metadata": {
        "id": "M5Ed9pnTctkZ"
      },
      "source": [
        "model = Sequential()\n",
        "\n",
        "model.add(Conv2D(256, (3, 3), input_shape=X_train.shape[1:], padding='same'))\n",
        "model.add(Activation('relu'))\n",
        "model.add(MaxPooling2D(pool_size=(2, 2), padding='same'))\n",
        "model.add(BatchNormalization(axis=1))\n",
        "\n",
        "model.add(Conv2D(64, (3, 3), padding='same'))\n",
        "model.add(Activation('relu'))\n",
        "model.add(MaxPooling2D(pool_size=(2, 2), padding='same'))\n",
        "model.add(BatchNormalization(axis=1))\n",
        "\n",
        "model.add(Conv2D(16, (3, 3), padding='same'))\n",
        "model.add(Activation('relu'))\n",
        "model.add(MaxPooling2D(pool_size=(2, 2), padding='same'))\n",
        "model.add(BatchNormalization(axis=1))\n",
        "\n",
        "model.add(Flatten())  # this converts our 3D feature maps to 1D feature vectors\n",
        "\n",
        "model.add(Dropout(0.5))\n",
        "model.add(Dense(64))\n",
        "model.add(Activation('relu'))\n",
        "\n",
        "model.add(Dropout(0.5))\n",
        "model.add(Dense(1))\n",
        "model.add(Activation('sigmoid'))\n",
        "\n",
        "early_stop = EarlyStopping(patience=3, monitor='val_loss', restore_best_weights=True)\n",
        "adam = Adam(learning_rate=0.0001)\n",
        "model.compile(loss='binary_crossentropy',optimizer=adam,metrics=['acc'])"
      ],
      "execution_count": 11,
      "outputs": []
    },
    {
      "cell_type": "code",
      "metadata": {
        "id": "i1INvC9hcwgS",
        "colab": {
          "base_uri": "https://localhost:8080/"
        },
        "outputId": "37e4eb38-a243-440c-a45a-8155cde3c9a3"
      },
      "source": [
        "model.summary()"
      ],
      "execution_count": 12,
      "outputs": [
        {
          "output_type": "stream",
          "text": [
            "Model: \"sequential\"\n",
            "_________________________________________________________________\n",
            "Layer (type)                 Output Shape              Param #   \n",
            "=================================================================\n",
            "conv2d (Conv2D)              (None, 200, 200, 256)     2560      \n",
            "_________________________________________________________________\n",
            "activation (Activation)      (None, 200, 200, 256)     0         \n",
            "_________________________________________________________________\n",
            "max_pooling2d (MaxPooling2D) (None, 100, 100, 256)     0         \n",
            "_________________________________________________________________\n",
            "batch_normalization (BatchNo (None, 100, 100, 256)     400       \n",
            "_________________________________________________________________\n",
            "conv2d_1 (Conv2D)            (None, 100, 100, 64)      147520    \n",
            "_________________________________________________________________\n",
            "activation_1 (Activation)    (None, 100, 100, 64)      0         \n",
            "_________________________________________________________________\n",
            "max_pooling2d_1 (MaxPooling2 (None, 50, 50, 64)        0         \n",
            "_________________________________________________________________\n",
            "batch_normalization_1 (Batch (None, 50, 50, 64)        200       \n",
            "_________________________________________________________________\n",
            "conv2d_2 (Conv2D)            (None, 50, 50, 16)        9232      \n",
            "_________________________________________________________________\n",
            "activation_2 (Activation)    (None, 50, 50, 16)        0         \n",
            "_________________________________________________________________\n",
            "max_pooling2d_2 (MaxPooling2 (None, 25, 25, 16)        0         \n",
            "_________________________________________________________________\n",
            "batch_normalization_2 (Batch (None, 25, 25, 16)        100       \n",
            "_________________________________________________________________\n",
            "flatten (Flatten)            (None, 10000)             0         \n",
            "_________________________________________________________________\n",
            "dropout (Dropout)            (None, 10000)             0         \n",
            "_________________________________________________________________\n",
            "dense (Dense)                (None, 64)                640064    \n",
            "_________________________________________________________________\n",
            "activation_3 (Activation)    (None, 64)                0         \n",
            "_________________________________________________________________\n",
            "dropout_1 (Dropout)          (None, 64)                0         \n",
            "_________________________________________________________________\n",
            "dense_1 (Dense)              (None, 1)                 65        \n",
            "_________________________________________________________________\n",
            "activation_4 (Activation)    (None, 1)                 0         \n",
            "=================================================================\n",
            "Total params: 800,141\n",
            "Trainable params: 799,791\n",
            "Non-trainable params: 350\n",
            "_________________________________________________________________\n"
          ],
          "name": "stdout"
        }
      ]
    },
    {
      "cell_type": "code",
      "metadata": {
        "id": "Y9f0upO0cyrJ",
        "colab": {
          "base_uri": "https://localhost:8080/"
        },
        "outputId": "52199a17-7748-4a9c-d309-4f547c57aa24"
      },
      "source": [
        "history = model.fit(datagen.flow(X_train, y_train, batch_size=10), callbacks=[early_stop], validation_data=(X_val, y_val), epochs=15)"
      ],
      "execution_count": null,
      "outputs": [
        {
          "output_type": "stream",
          "text": [
            "Epoch 1/15\n",
            "375/375 [==============================] - 1487s 4s/step - loss: 0.7417 - acc: 0.6926 - val_loss: 0.6014 - val_acc: 0.7407\n",
            "Epoch 2/15\n",
            "375/375 [==============================] - 1517s 4s/step - loss: 0.5372 - acc: 0.7230 - val_loss: 0.4465 - val_acc: 0.7759\n",
            "Epoch 3/15\n",
            "375/375 [==============================] - 1521s 4s/step - loss: 0.4523 - acc: 0.7761 - val_loss: 0.3437 - val_acc: 0.8549\n",
            "Epoch 4/15\n",
            "375/375 [==============================] - 1524s 4s/step - loss: 0.4176 - acc: 0.8090 - val_loss: 0.3621 - val_acc: 0.8100\n",
            "Epoch 5/15\n",
            "375/375 [==============================] - 1527s 4s/step - loss: 0.3964 - acc: 0.8275 - val_loss: 0.2953 - val_acc: 0.8762\n",
            "Epoch 6/15\n",
            "267/375 [====================>.........] - ETA: 6:56 - loss: 0.3546 - acc: 0.8446"
          ],
          "name": "stdout"
        }
      ]
    },
    {
      "cell_type": "code",
      "metadata": {
        "id": "F5G3UUg9c3Dr"
      },
      "source": [
        "model.evaluate(X_test, y_test)"
      ],
      "execution_count": null,
      "outputs": []
    },
    {
      "cell_type": "code",
      "metadata": {
        "id": "WTcxJHSJnMk0"
      },
      "source": [
        "plt.figure(figsize=(16, 9))\n",
        "plt.plot(history.epoch, history.history['acc'])\n",
        "plt.title('Model Accuracy')\n",
        "plt.legend(['train'], loc='upper left')\n",
        "plt.show()\n",
        "\n",
        "plt.figure(figsize=(16, 9))\n",
        "plt.plot(history.epoch, history.history['loss'])\n",
        "plt.title('Model Loss')\n",
        "plt.legend(['train'], loc='upper left')\n",
        "plt.show()\n",
        "\n",
        "plt.figure(figsize=(16, 9))\n",
        "plt.plot(history.epoch, history.history['val_acc'])\n",
        "plt.title('Model Validation Accuracy')\n",
        "plt.legend(['train'], loc='upper left')\n",
        "plt.show()\n",
        "\n",
        "plt.figure(figsize=(16, 9))\n",
        "plt.plot(history.epoch, history.history['val_loss'])\n",
        "plt.title('Model Validation Loss')\n",
        "plt.legend(['train'], loc='upper left')\n",
        "plt.show()"
      ],
      "execution_count": null,
      "outputs": []
    },
    {
      "cell_type": "code",
      "metadata": {
        "id": "dIyITG7RnQ6i"
      },
      "source": [
        ""
      ],
      "execution_count": null,
      "outputs": []
    }
  ]
}