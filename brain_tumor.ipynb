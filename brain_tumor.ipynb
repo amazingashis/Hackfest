{
  "nbformat": 4,
  "nbformat_minor": 0,
  "metadata": {
    "colab": {
      "name": "brain_tumor.ipynb",
      "provenance": [],
      "mount_file_id": "1F-bF_dEPPJomBcpN76w8DMS4xNb54xOO",
      "authorship_tag": "ABX9TyNiytll0aDtjVUAQ4nJjI2y",
      "include_colab_link": true
    },
    "kernelspec": {
      "name": "python3",
      "display_name": "Python 3"
    }
  },
  "cells": [
    {
      "cell_type": "markdown",
      "metadata": {
        "id": "view-in-github",
        "colab_type": "text"
      },
      "source": [
        "<a href=\"https://colab.research.google.com/github/amazingashis/Hackfest/blob/master/brain_tumor.ipynb\" target=\"_parent\"><img src=\"https://colab.research.google.com/assets/colab-badge.svg\" alt=\"Open In Colab\"/></a>"
      ]
    },
    {
      "cell_type": "code",
      "metadata": {
        "colab": {
          "base_uri": "https://localhost:8080/"
        },
        "id": "WPKsMZVekLJa",
        "outputId": "282e6a91-0336-45e6-c0b4-ecf8c4e116eb"
      },
      "source": [
        "import matplotlib.pyplot as plt\r\n",
        "import tensorflow as tf \r\n",
        "from tensorflow import keras \r\n",
        "from tensorflow.keras.models import Sequential\r\n",
        "from tensorflow.keras.layers import Dense, Activation, Conv2D, MaxPooling2D, Flatten, Dropout, BatchNormalization\r\n",
        "from tensorflow.keras.optimizers import Adam\r\n",
        "from tensorflow.keras.callbacks import EarlyStopping\r\n",
        "from tensorflow.keras.preprocessing.image import ImageDataGenerator\r\n",
        "from sklearn.metrics import precision_recall_curve, roc_curve, accuracy_score, confusion_matrix, precision_score, recall_score\r\n",
        "from sklearn.decomposition import PCA\r\n",
        "from sklearn.model_selection import train_test_split\r\n",
        "import matplotlib.pyplot as plt \r\n",
        "import seaborn as sns \r\n",
        "plt.style.use('fivethirtyeight')\r\n",
        "import pickle \r\n",
        "import os \r\n",
        "import numpy as np\r\n",
        "import cv2 \r\n",
        "%matplotlib inline\r\n",
        "import pandas.util.testing as tm"
      ],
      "execution_count": null,
      "outputs": [
        {
          "output_type": "stream",
          "text": [
            "/usr/local/lib/python3.6/dist-packages/ipykernel_launcher.py:20: FutureWarning: pandas.util.testing is deprecated. Use the functions in the public API at pandas.testing instead.\n"
          ],
          "name": "stderr"
        }
      ]
    },
    {
      "cell_type": "code",
      "metadata": {
        "id": "Y0XTpbeykib6"
      },
      "source": [
        "labels = ['yes', 'no']\r\n",
        "img_size = 200\r\n",
        "def get_training_data(data_dir):\r\n",
        "    data = [] \r\n",
        "    for label in labels: \r\n",
        "        path = os.path.join(data_dir, label)\r\n",
        "        class_num = labels.index(label)\r\n",
        "        for img in os.listdir(path):\r\n",
        "            try:\r\n",
        "                img_arr = cv2.imread(os.path.join(path, img), cv2.IMREAD_GRAYSCALE)\r\n",
        "                resized_arr = cv2.resize(img_arr, (img_size, img_size))\r\n",
        "                data.append([resized_arr, class_num])\r\n",
        "            except Exception as e:\r\n",
        "                print(e)\r\n",
        "    return np.array(data)\r\n"
      ],
      "execution_count": null,
      "outputs": []
    },
    {
      "cell_type": "code",
      "metadata": {
        "colab": {
          "base_uri": "https://localhost:8080/"
        },
        "id": "gxPiuUOYk13a",
        "outputId": "3c80d36b-ca94-4117-b57b-a1af088fb0ad"
      },
      "source": [
        "data = get_training_data('/content/drive/MyDrive/Data/data/brain_tumor_dataset')"
      ],
      "execution_count": null,
      "outputs": [
        {
          "output_type": "stream",
          "text": [
            "/usr/local/lib/python3.6/dist-packages/ipykernel_launcher.py:15: VisibleDeprecationWarning: Creating an ndarray from ragged nested sequences (which is a list-or-tuple of lists-or-tuples-or ndarrays with different lengths or shapes) is deprecated. If you meant to do this, you must specify 'dtype=object' when creating the ndarray\n",
            "  from ipykernel import kernelapp as app\n"
          ],
          "name": "stderr"
        }
      ]
    },
    {
      "cell_type": "code",
      "metadata": {
        "id": "oNbcDt51k7o9"
      },
      "source": [
        "X = []\r\n",
        "y = []\r\n",
        "\r\n",
        "for feature, label in data:\r\n",
        "    X.append(feature)\r\n",
        "    y.append(label)\r\n",
        "\r\n",
        "\r\n",
        "\r\n",
        "# resize data for deep learning \r\n",
        "X = np.array(X).reshape(-1, img_size, img_size, 1)\r\n",
        "y = np.array(y)\r\n",
        "\r\n",
        "X_train, X_test, y_train, y_test = train_test_split(X, y, test_size=0.2, random_state=32)"
      ],
      "execution_count": null,
      "outputs": []
    },
    {
      "cell_type": "code",
      "metadata": {
        "id": "xaSmtbxFlGO_"
      },
      "source": [
        "X_train = X_train / 255\r\n",
        "X_test = X_test / 255"
      ],
      "execution_count": null,
      "outputs": []
    },
    {
      "cell_type": "code",
      "metadata": {
        "id": "NvxjNzsRlIBC"
      },
      "source": [
        "# good for balancing out disproportions in the dataset \r\n",
        "datagen = ImageDataGenerator(\r\n",
        "        featurewise_center=False, \r\n",
        "        samplewise_center=False,  \r\n",
        "        featurewise_std_normalization=False,  \r\n",
        "        samplewise_std_normalization=False,  \r\n",
        "        zca_whitening=False,  \r\n",
        "        rotation_range=90, \r\n",
        "        zoom_range = 0.1, \r\n",
        "        width_shift_range=0.1,  \r\n",
        "        height_shift_range=0.1,  \r\n",
        "        horizontal_flip=True,  \r\n",
        "        vertical_flip=True)  \r\n",
        "\r\n",
        "datagen.fit(X_train)"
      ],
      "execution_count": null,
      "outputs": []
    },
    {
      "cell_type": "code",
      "metadata": {
        "colab": {
          "base_uri": "https://localhost:8080/"
        },
        "id": "PwPwVif4lLal",
        "outputId": "ca46949c-e4d6-4ef1-9047-3d3015a861df"
      },
      "source": [
        "model = keras.Sequential([\r\n",
        "  keras.layers.Conv2D(input_shape=(200,200,1), filters=8, kernel_size=3, \r\n",
        "                      strides=2, activation='relu', name='Conv1'),\r\n",
        "  keras.layers.Flatten(),\r\n",
        "  keras.layers.Dense(2, activation=tf.nn.softmax, name='Softmax')\r\n",
        "])\r\n",
        "model.summary()\r\n",
        "\r\n",
        "testing = False\r\n",
        "epochs = 15\r\n",
        "\r\n",
        "model.compile(optimizer='adam', \r\n",
        "              loss='sparse_categorical_crossentropy',\r\n",
        "              metrics=['accuracy'])\r\n",
        "model.fit(X_train, y_train, epochs=epochs)\r\n",
        "\r\n",
        "test_loss, test_acc = model.evaluate(X_test, y_test)\r\n",
        "print('\\nTest accuracy: {}'.format(test_acc))"
      ],
      "execution_count": null,
      "outputs": [
        {
          "output_type": "stream",
          "text": [
            "Model: \"sequential_5\"\n",
            "_________________________________________________________________\n",
            "Layer (type)                 Output Shape              Param #   \n",
            "=================================================================\n",
            "Conv1 (Conv2D)               (None, 99, 99, 8)         80        \n",
            "_________________________________________________________________\n",
            "flatten_5 (Flatten)          (None, 78408)             0         \n",
            "_________________________________________________________________\n",
            "Softmax (Dense)              (None, 2)                 156818    \n",
            "=================================================================\n",
            "Total params: 156,898\n",
            "Trainable params: 156,898\n",
            "Non-trainable params: 0\n",
            "_________________________________________________________________\n",
            "Epoch 1/15\n",
            "7/7 [==============================] - 1s 61ms/step - loss: 0.8970 - accuracy: 0.5556\n",
            "Epoch 2/15\n",
            "7/7 [==============================] - 0s 61ms/step - loss: 0.7398 - accuracy: 0.5476\n",
            "Epoch 3/15\n",
            "7/7 [==============================] - 0s 60ms/step - loss: 0.5649 - accuracy: 0.7445\n",
            "Epoch 4/15\n",
            "7/7 [==============================] - 0s 61ms/step - loss: 0.3963 - accuracy: 0.8150\n",
            "Epoch 5/15\n",
            "7/7 [==============================] - 0s 62ms/step - loss: 0.3427 - accuracy: 0.8668\n",
            "Epoch 6/15\n",
            "7/7 [==============================] - 0s 61ms/step - loss: 0.2581 - accuracy: 0.9090\n",
            "Epoch 7/15\n",
            "7/7 [==============================] - 0s 59ms/step - loss: 0.2253 - accuracy: 0.9232\n",
            "Epoch 8/15\n",
            "7/7 [==============================] - 0s 62ms/step - loss: 0.1565 - accuracy: 0.9497\n",
            "Epoch 9/15\n",
            "7/7 [==============================] - 0s 60ms/step - loss: 0.1340 - accuracy: 0.9842\n",
            "Epoch 10/15\n",
            "7/7 [==============================] - 0s 63ms/step - loss: 0.0980 - accuracy: 0.9734\n",
            "Epoch 11/15\n",
            "7/7 [==============================] - 0s 62ms/step - loss: 0.0730 - accuracy: 0.9924\n",
            "Epoch 12/15\n",
            "7/7 [==============================] - 0s 59ms/step - loss: 0.0523 - accuracy: 1.0000\n",
            "Epoch 13/15\n",
            "7/7 [==============================] - 0s 62ms/step - loss: 0.0413 - accuracy: 1.0000\n",
            "Epoch 14/15\n",
            "7/7 [==============================] - 0s 60ms/step - loss: 0.0399 - accuracy: 1.0000\n",
            "Epoch 15/15\n",
            "7/7 [==============================] - 0s 62ms/step - loss: 0.0342 - accuracy: 1.0000\n",
            "WARNING:tensorflow:5 out of the last 9 calls to <function Model.make_test_function.<locals>.test_function at 0x7f7388099598> triggered tf.function retracing. Tracing is expensive and the excessive number of tracings could be due to (1) creating @tf.function repeatedly in a loop, (2) passing tensors with different shapes, (3) passing Python objects instead of tensors. For (1), please define your @tf.function outside of the loop. For (2), @tf.function has experimental_relax_shapes=True option that relaxes argument shapes that can avoid unnecessary retracing. For (3), please refer to https://www.tensorflow.org/guide/function#controlling_retracing and https://www.tensorflow.org/api_docs/python/tf/function for  more details.\n",
            "2/2 [==============================] - 0s 23ms/step - loss: 0.4916 - accuracy: 0.8431\n",
            "\n",
            "Test accuracy: 0.843137264251709\n"
          ],
          "name": "stdout"
        }
      ]
    },
    {
      "cell_type": "code",
      "metadata": {
        "colab": {
          "base_uri": "https://localhost:8080/"
        },
        "id": "IO0f2d-FlOGg",
        "outputId": "3517a3a9-92fd-48e7-e340-29a7dca2228c"
      },
      "source": [
        "print(model.predict(X_test))"
      ],
      "execution_count": null,
      "outputs": [
        {
          "output_type": "stream",
          "text": [
            "[[5.75040877e-01 4.24959064e-01]\n",
            " [1.44731058e-02 9.85526919e-01]\n",
            " [6.31697774e-01 3.68302166e-01]\n",
            " [9.46733534e-01 5.32664992e-02]\n",
            " [1.19393202e-03 9.98806119e-01]\n",
            " [4.33378704e-02 9.56662178e-01]\n",
            " [8.94393325e-01 1.05606705e-01]\n",
            " [9.87905622e-01 1.20944139e-02]\n",
            " [9.99058545e-01 9.41405597e-04]\n",
            " [3.28611225e-01 6.71388805e-01]\n",
            " [1.61763325e-01 8.38236630e-01]\n",
            " [8.69233191e-01 1.30766839e-01]\n",
            " [6.83307648e-02 9.31669235e-01]\n",
            " [9.77053940e-01 2.29461025e-02]\n",
            " [9.67353284e-01 3.26466933e-02]\n",
            " [9.82595444e-01 1.74045246e-02]\n",
            " [6.62962914e-01 3.37037116e-01]\n",
            " [8.54471743e-01 1.45528242e-01]\n",
            " [1.96601246e-02 9.80339944e-01]\n",
            " [7.67741919e-01 2.32258052e-01]\n",
            " [1.41304284e-01 8.58695745e-01]\n",
            " [9.88038480e-01 1.19615048e-02]\n",
            " [9.45947528e-01 5.40524237e-02]\n",
            " [7.20211327e-01 2.79788733e-01]\n",
            " [9.91300762e-01 8.69926158e-03]\n",
            " [1.41304284e-01 8.58695745e-01]\n",
            " [1.29984608e-02 9.87001538e-01]\n",
            " [1.03585962e-02 9.89641368e-01]\n",
            " [6.00623712e-03 9.93993819e-01]\n",
            " [4.48395498e-03 9.95516002e-01]\n",
            " [9.99613941e-01 3.86109255e-04]\n",
            " [1.88335016e-01 8.11664999e-01]\n",
            " [8.43024433e-01 1.56975597e-01]\n",
            " [9.38112736e-01 6.18872233e-02]\n",
            " [2.90717073e-02 9.70928311e-01]\n",
            " [9.84366417e-01 1.56335626e-02]\n",
            " [9.92933393e-01 7.06660189e-03]\n",
            " [2.78391056e-02 9.72160876e-01]\n",
            " [9.79916871e-01 2.00830586e-02]\n",
            " [8.14307094e-01 1.85692936e-01]\n",
            " [9.98218477e-01 1.78153475e-03]\n",
            " [9.59667683e-01 4.03323211e-02]\n",
            " [9.57785726e-01 4.22143303e-02]\n",
            " [2.03080252e-02 9.79692042e-01]\n",
            " [8.49121511e-01 1.50878534e-01]\n",
            " [7.68264592e-01 2.31735438e-01]\n",
            " [9.49449897e-01 5.05501851e-02]\n",
            " [9.93142128e-01 6.85785804e-03]\n",
            " [9.60920811e-01 3.90792154e-02]\n",
            " [2.27854564e-03 9.97721493e-01]\n",
            " [8.19998324e-01 1.80001751e-01]]\n"
          ],
          "name": "stdout"
        }
      ]
    },
    {
      "cell_type": "code",
      "metadata": {
        "colab": {
          "base_uri": "https://localhost:8080/"
        },
        "id": "zK7Ih7cSlQUh",
        "outputId": "9140f3d0-a0e3-483d-cc72-e50c2c68976f"
      },
      "source": [
        "!pip install tensorflowjs"
      ],
      "execution_count": 1,
      "outputs": [
        {
          "output_type": "stream",
          "text": [
            "Collecting tensorflowjs\n",
            "\u001b[?25l  Downloading https://files.pythonhosted.org/packages/67/4e/f9a147cbf1694b76ac5d2689bbaecf4f70a98712908474ea733d2f545f61/tensorflowjs-3.1.0-py3-none-any.whl (63kB)\n",
            "\u001b[K     |████████████████████████████████| 71kB 3.8MB/s \n",
            "\u001b[?25hRequirement already satisfied: tensorflow<3,>=2.1.0 in /usr/local/lib/python3.6/dist-packages (from tensorflowjs) (2.4.1)\n",
            "Requirement already satisfied: h5py<3,>=2.8.0 in /usr/local/lib/python3.6/dist-packages (from tensorflowjs) (2.10.0)\n",
            "Collecting tensorflow-hub<0.10,>=0.7.0\n",
            "\u001b[?25l  Downloading https://files.pythonhosted.org/packages/ac/83/a7df82744a794107641dad1decaad017d82e25f0e1f761ac9204829eef96/tensorflow_hub-0.9.0-py2.py3-none-any.whl (103kB)\n",
            "\u001b[K     |████████████████████████████████| 112kB 7.3MB/s \n",
            "\u001b[?25hRequirement already satisfied: six<2,>=1.12.0 in /usr/local/lib/python3.6/dist-packages (from tensorflowjs) (1.15.0)\n",
            "Requirement already satisfied: absl-py~=0.10 in /usr/local/lib/python3.6/dist-packages (from tensorflow<3,>=2.1.0->tensorflowjs) (0.10.0)\n",
            "Requirement already satisfied: gast==0.3.3 in /usr/local/lib/python3.6/dist-packages (from tensorflow<3,>=2.1.0->tensorflowjs) (0.3.3)\n",
            "Requirement already satisfied: termcolor~=1.1.0 in /usr/local/lib/python3.6/dist-packages (from tensorflow<3,>=2.1.0->tensorflowjs) (1.1.0)\n",
            "Requirement already satisfied: tensorboard~=2.4 in /usr/local/lib/python3.6/dist-packages (from tensorflow<3,>=2.1.0->tensorflowjs) (2.4.1)\n",
            "Requirement already satisfied: tensorflow-estimator<2.5.0,>=2.4.0 in /usr/local/lib/python3.6/dist-packages (from tensorflow<3,>=2.1.0->tensorflowjs) (2.4.0)\n",
            "Requirement already satisfied: protobuf>=3.9.2 in /usr/local/lib/python3.6/dist-packages (from tensorflow<3,>=2.1.0->tensorflowjs) (3.12.4)\n",
            "Requirement already satisfied: astunparse~=1.6.3 in /usr/local/lib/python3.6/dist-packages (from tensorflow<3,>=2.1.0->tensorflowjs) (1.6.3)\n",
            "Requirement already satisfied: typing-extensions~=3.7.4 in /usr/local/lib/python3.6/dist-packages (from tensorflow<3,>=2.1.0->tensorflowjs) (3.7.4.3)\n",
            "Requirement already satisfied: wrapt~=1.12.1 in /usr/local/lib/python3.6/dist-packages (from tensorflow<3,>=2.1.0->tensorflowjs) (1.12.1)\n",
            "Requirement already satisfied: opt-einsum~=3.3.0 in /usr/local/lib/python3.6/dist-packages (from tensorflow<3,>=2.1.0->tensorflowjs) (3.3.0)\n",
            "Requirement already satisfied: google-pasta~=0.2 in /usr/local/lib/python3.6/dist-packages (from tensorflow<3,>=2.1.0->tensorflowjs) (0.2.0)\n",
            "Requirement already satisfied: keras-preprocessing~=1.1.2 in /usr/local/lib/python3.6/dist-packages (from tensorflow<3,>=2.1.0->tensorflowjs) (1.1.2)\n",
            "Requirement already satisfied: grpcio~=1.32.0 in /usr/local/lib/python3.6/dist-packages (from tensorflow<3,>=2.1.0->tensorflowjs) (1.32.0)\n",
            "Requirement already satisfied: flatbuffers~=1.12.0 in /usr/local/lib/python3.6/dist-packages (from tensorflow<3,>=2.1.0->tensorflowjs) (1.12)\n",
            "Requirement already satisfied: numpy~=1.19.2 in /usr/local/lib/python3.6/dist-packages (from tensorflow<3,>=2.1.0->tensorflowjs) (1.19.5)\n",
            "Requirement already satisfied: wheel~=0.35 in /usr/local/lib/python3.6/dist-packages (from tensorflow<3,>=2.1.0->tensorflowjs) (0.36.2)\n",
            "Requirement already satisfied: google-auth<2,>=1.6.3 in /usr/local/lib/python3.6/dist-packages (from tensorboard~=2.4->tensorflow<3,>=2.1.0->tensorflowjs) (1.25.0)\n",
            "Requirement already satisfied: setuptools>=41.0.0 in /usr/local/lib/python3.6/dist-packages (from tensorboard~=2.4->tensorflow<3,>=2.1.0->tensorflowjs) (53.0.0)\n",
            "Requirement already satisfied: requests<3,>=2.21.0 in /usr/local/lib/python3.6/dist-packages (from tensorboard~=2.4->tensorflow<3,>=2.1.0->tensorflowjs) (2.23.0)\n",
            "Requirement already satisfied: werkzeug>=0.11.15 in /usr/local/lib/python3.6/dist-packages (from tensorboard~=2.4->tensorflow<3,>=2.1.0->tensorflowjs) (1.0.1)\n",
            "Requirement already satisfied: tensorboard-plugin-wit>=1.6.0 in /usr/local/lib/python3.6/dist-packages (from tensorboard~=2.4->tensorflow<3,>=2.1.0->tensorflowjs) (1.8.0)\n",
            "Requirement already satisfied: google-auth-oauthlib<0.5,>=0.4.1 in /usr/local/lib/python3.6/dist-packages (from tensorboard~=2.4->tensorflow<3,>=2.1.0->tensorflowjs) (0.4.2)\n",
            "Requirement already satisfied: markdown>=2.6.8 in /usr/local/lib/python3.6/dist-packages (from tensorboard~=2.4->tensorflow<3,>=2.1.0->tensorflowjs) (3.3.3)\n",
            "Requirement already satisfied: cachetools<5.0,>=2.0.0 in /usr/local/lib/python3.6/dist-packages (from google-auth<2,>=1.6.3->tensorboard~=2.4->tensorflow<3,>=2.1.0->tensorflowjs) (4.2.1)\n",
            "Requirement already satisfied: pyasn1-modules>=0.2.1 in /usr/local/lib/python3.6/dist-packages (from google-auth<2,>=1.6.3->tensorboard~=2.4->tensorflow<3,>=2.1.0->tensorflowjs) (0.2.8)\n",
            "Requirement already satisfied: rsa<5,>=3.1.4; python_version >= \"3.6\" in /usr/local/lib/python3.6/dist-packages (from google-auth<2,>=1.6.3->tensorboard~=2.4->tensorflow<3,>=2.1.0->tensorflowjs) (4.7)\n",
            "Requirement already satisfied: idna<3,>=2.5 in /usr/local/lib/python3.6/dist-packages (from requests<3,>=2.21.0->tensorboard~=2.4->tensorflow<3,>=2.1.0->tensorflowjs) (2.10)\n",
            "Requirement already satisfied: urllib3!=1.25.0,!=1.25.1,<1.26,>=1.21.1 in /usr/local/lib/python3.6/dist-packages (from requests<3,>=2.21.0->tensorboard~=2.4->tensorflow<3,>=2.1.0->tensorflowjs) (1.24.3)\n",
            "Requirement already satisfied: certifi>=2017.4.17 in /usr/local/lib/python3.6/dist-packages (from requests<3,>=2.21.0->tensorboard~=2.4->tensorflow<3,>=2.1.0->tensorflowjs) (2020.12.5)\n",
            "Requirement already satisfied: chardet<4,>=3.0.2 in /usr/local/lib/python3.6/dist-packages (from requests<3,>=2.21.0->tensorboard~=2.4->tensorflow<3,>=2.1.0->tensorflowjs) (3.0.4)\n",
            "Requirement already satisfied: requests-oauthlib>=0.7.0 in /usr/local/lib/python3.6/dist-packages (from google-auth-oauthlib<0.5,>=0.4.1->tensorboard~=2.4->tensorflow<3,>=2.1.0->tensorflowjs) (1.3.0)\n",
            "Requirement already satisfied: importlib-metadata; python_version < \"3.8\" in /usr/local/lib/python3.6/dist-packages (from markdown>=2.6.8->tensorboard~=2.4->tensorflow<3,>=2.1.0->tensorflowjs) (3.4.0)\n",
            "Requirement already satisfied: pyasn1<0.5.0,>=0.4.6 in /usr/local/lib/python3.6/dist-packages (from pyasn1-modules>=0.2.1->google-auth<2,>=1.6.3->tensorboard~=2.4->tensorflow<3,>=2.1.0->tensorflowjs) (0.4.8)\n",
            "Requirement already satisfied: oauthlib>=3.0.0 in /usr/local/lib/python3.6/dist-packages (from requests-oauthlib>=0.7.0->google-auth-oauthlib<0.5,>=0.4.1->tensorboard~=2.4->tensorflow<3,>=2.1.0->tensorflowjs) (3.1.0)\n",
            "Requirement already satisfied: zipp>=0.5 in /usr/local/lib/python3.6/dist-packages (from importlib-metadata; python_version < \"3.8\"->markdown>=2.6.8->tensorboard~=2.4->tensorflow<3,>=2.1.0->tensorflowjs) (3.4.0)\n",
            "Installing collected packages: tensorflow-hub, tensorflowjs\n",
            "  Found existing installation: tensorflow-hub 0.11.0\n",
            "    Uninstalling tensorflow-hub-0.11.0:\n",
            "      Successfully uninstalled tensorflow-hub-0.11.0\n",
            "Successfully installed tensorflow-hub-0.9.0 tensorflowjs-3.1.0\n"
          ],
          "name": "stdout"
        }
      ]
    },
    {
      "cell_type": "code",
      "metadata": {
        "id": "sEj4_D37mgu3"
      },
      "source": [
        "import time\r\n",
        "saved_model_path = \"tmp/{}.h5\".format(int(time.time()))\r\n",
        "\r\n",
        "model.save(saved_model_path)"
      ],
      "execution_count": null,
      "outputs": []
    },
    {
      "cell_type": "code",
      "metadata": {
        "id": "Jc-n5FermmK0",
        "colab": {
          "base_uri": "https://localhost:8080/"
        },
        "outputId": "769f6a74-4d44-4e0d-ac60-dad543b06239"
      },
      "source": [
        "!tensorflowjs_converter --input_format=keras {saved_model_path} ./"
      ],
      "execution_count": null,
      "outputs": [
        {
          "output_type": "stream",
          "text": [
            "2021-02-20 08:42:19.514819: I tensorflow/stream_executor/platform/default/dso_loader.cc:49] Successfully opened dynamic library libcudart.so.10.1\n"
          ],
          "name": "stdout"
        }
      ]
    },
    {
      "cell_type": "code",
      "metadata": {
        "id": "r4QVrdu7mpqh"
      },
      "source": [
        "import time\r\n",
        "model = \"/content/drive/MyDrive/Data/pneumonia model/model.json\"\r\n",
        "#model.load(saved_model_path)"
      ],
      "execution_count": 3,
      "outputs": []
    },
    {
      "cell_type": "code",
      "metadata": {
        "colab": {
          "base_uri": "https://localhost:8080/",
          "height": 162
        },
        "id": "hdI7ZpP9ksof",
        "outputId": "7b1fde19-0b27-4e98-a4f2-a5f5b49c8b41"
      },
      "source": [
        ""
      ],
      "execution_count": 4,
      "outputs": [
        {
          "output_type": "error",
          "ename": "AttributeError",
          "evalue": "ignored",
          "traceback": [
            "\u001b[0;31m---------------------------------------------------------------------------\u001b[0m",
            "\u001b[0;31mAttributeError\u001b[0m                            Traceback (most recent call last)",
            "\u001b[0;32m<ipython-input-4-5f15418b3570>\u001b[0m in \u001b[0;36m<module>\u001b[0;34m()\u001b[0m\n\u001b[0;32m----> 1\u001b[0;31m \u001b[0mmodel\u001b[0m\u001b[0;34m.\u001b[0m\u001b[0msummary\u001b[0m\u001b[0;34m(\u001b[0m\u001b[0;34m)\u001b[0m\u001b[0;34m\u001b[0m\u001b[0;34m\u001b[0m\u001b[0m\n\u001b[0m",
            "\u001b[0;31mAttributeError\u001b[0m: 'str' object has no attribute 'summary'"
          ]
        }
      ]
    },
    {
      "cell_type": "code",
      "metadata": {
        "id": "LY973kUxk7yd"
      },
      "source": [
        ""
      ],
      "execution_count": null,
      "outputs": []
    }
  ]
}