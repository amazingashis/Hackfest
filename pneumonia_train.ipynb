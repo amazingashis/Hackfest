{
  "nbformat": 4,
  "nbformat_minor": 0,
  "metadata": {
    "colab": {
      "name": "pneumonia_train.ipynb",
      "provenance": [],
      "mount_file_id": "10fApEr9ATjF7vT4hFBVLTpgiWqQP3UVm",
      "authorship_tag": "ABX9TyP9sdUpCUu4rYn15Pz1bcoe",
      "include_colab_link": true
    },
    "kernelspec": {
      "name": "python3",
      "display_name": "Python 3"
    }
  },
  "cells": [
    {
      "cell_type": "markdown",
      "metadata": {
        "id": "view-in-github",
        "colab_type": "text"
      },
      "source": [
        "<a href=\"https://colab.research.google.com/github/amazingashis/Hackfest/blob/master/pneumonia_train.ipynb\" target=\"_parent\"><img src=\"https://colab.research.google.com/assets/colab-badge.svg\" alt=\"Open In Colab\"/></a>"
      ]
    },
    {
      "cell_type": "code",
      "metadata": {
        "colab": {
          "base_uri": "https://localhost:8080/"
        },
        "id": "x9BzUyaDEMPH",
        "outputId": "b2ce3f6f-c3cf-4621-f2e4-edf60cbfeb26"
      },
      "source": [
        "import matplotlib.pyplot as plt\r\n",
        "import tensorflow as tf \r\n",
        "from tensorflow import keras \r\n",
        "from tensorflow.keras.models import Sequential\r\n",
        "from tensorflow.keras.layers import Dense, Activation, Conv2D, MaxPooling2D, Flatten, Dropout, BatchNormalization\r\n",
        "from tensorflow.keras.optimizers import Adam\r\n",
        "from tensorflow.keras.callbacks import EarlyStopping\r\n",
        "from tensorflow.keras.preprocessing.image import ImageDataGenerator\r\n",
        "from sklearn.metrics import precision_recall_curve, roc_curve, accuracy_score, confusion_matrix, precision_score, recall_score\r\n",
        "from sklearn.decomposition import PCA\r\n",
        "from sklearn.model_selection import train_test_split\r\n",
        "import matplotlib.pyplot as plt \r\n",
        "import seaborn as sns \r\n",
        "plt.style.use('fivethirtyeight')\r\n",
        "import pickle \r\n",
        "import os \r\n",
        "import numpy as np\r\n",
        "import cv2 \r\n",
        "%matplotlib inline\r\n",
        "import pandas.util.testing as tm"
      ],
      "execution_count": 1,
      "outputs": [
        {
          "output_type": "stream",
          "text": [
            "/usr/local/lib/python3.6/dist-packages/ipykernel_launcher.py:20: FutureWarning: pandas.util.testing is deprecated. Use the functions in the public API at pandas.testing instead.\n"
          ],
          "name": "stderr"
        }
      ]
    },
    {
      "cell_type": "code",
      "metadata": {
        "id": "RHGYI8rDEYMH"
      },
      "source": [
        "labels = ['yes', 'no']\r\n",
        "img_size = 200\r\n",
        "def get_training_data(data_dir):\r\n",
        "    data = [] \r\n",
        "    for label in labels: \r\n",
        "        path = os.path.join(data_dir, label)\r\n",
        "        class_num = labels.index(label)\r\n",
        "        for img in os.listdir(path):\r\n",
        "            try:\r\n",
        "                img_arr = cv2.imread(os.path.join(path, img), cv2.IMREAD_GRAYSCALE)\r\n",
        "                resized_arr = cv2.resize(img_arr, (img_size, img_size))\r\n",
        "                data.append([resized_arr, class_num])\r\n",
        "            except Exception as e:\r\n",
        "                print(e)\r\n",
        "    return np.array(data)"
      ],
      "execution_count": 2,
      "outputs": []
    },
    {
      "cell_type": "code",
      "metadata": {
        "colab": {
          "base_uri": "https://localhost:8080/"
        },
        "id": "sa3o-qWnEeci",
        "outputId": "0f6c110e-60e5-4ccc-d354-361207a189d3"
      },
      "source": [
        "data = get_training_data('/content/drive/MyDrive/Data/data/Pneumonia data')"
      ],
      "execution_count": 4,
      "outputs": [
        {
          "output_type": "stream",
          "text": [
            "/usr/local/lib/python3.6/dist-packages/ipykernel_launcher.py:15: VisibleDeprecationWarning: Creating an ndarray from ragged nested sequences (which is a list-or-tuple of lists-or-tuples-or ndarrays with different lengths or shapes) is deprecated. If you meant to do this, you must specify 'dtype=object' when creating the ndarray\n",
            "  from ipykernel import kernelapp as app\n"
          ],
          "name": "stderr"
        }
      ]
    },
    {
      "cell_type": "code",
      "metadata": {
        "id": "-VRyOl5iEjAK"
      },
      "source": [
        "X = []\r\n",
        "y = []\r\n",
        "\r\n",
        "for feature, label in data:\r\n",
        "    X.append(feature)\r\n",
        "    y.append(label)\r\n",
        "\r\n",
        "\r\n",
        "\r\n",
        "# resize data for deep learning \r\n",
        "X = np.array(X).reshape(-1, img_size, img_size, 1)\r\n",
        "y = np.array(y)\r\n",
        "\r\n",
        "X_train, X_test, y_train, y_test = train_test_split(X, y, test_size=0.2, random_state=32)"
      ],
      "execution_count": 5,
      "outputs": []
    },
    {
      "cell_type": "code",
      "metadata": {
        "id": "EUN_STMLEloK"
      },
      "source": [
        "X_train = X_train / 255\r\n",
        "X_test = X_test / 255"
      ],
      "execution_count": 6,
      "outputs": []
    },
    {
      "cell_type": "code",
      "metadata": {
        "id": "ChhBxwTwEso2"
      },
      "source": [
        "# good for balancing out disproportions in the dataset \r\n",
        "datagen = ImageDataGenerator(\r\n",
        "        featurewise_center=False, \r\n",
        "        samplewise_center=False,  \r\n",
        "        featurewise_std_normalization=False,  \r\n",
        "        samplewise_std_normalization=False,  \r\n",
        "        zca_whitening=False,  \r\n",
        "        rotation_range=90, \r\n",
        "        zoom_range = 0.1, \r\n",
        "        width_shift_range=0.1,  \r\n",
        "        height_shift_range=0.1,  \r\n",
        "        horizontal_flip=True,  \r\n",
        "        vertical_flip=True)  \r\n",
        "\r\n",
        "datagen.fit(X_train)"
      ],
      "execution_count": 7,
      "outputs": []
    },
    {
      "cell_type": "code",
      "metadata": {
        "colab": {
          "base_uri": "https://localhost:8080/"
        },
        "id": "4KJszEimEvWl",
        "outputId": "186bb595-69a3-4d4c-f526-fa56a0c44ca6"
      },
      "source": [
        "model = keras.Sequential([\r\n",
        "  keras.layers.Conv2D(input_shape=(200,200,1), filters=8, kernel_size=3, \r\n",
        "                      strides=2, activation='relu', name='Conv1'),\r\n",
        "  keras.layers.Flatten(),\r\n",
        "  keras.layers.Dense(2, activation=tf.nn.softmax, name='Softmax')\r\n",
        "])\r\n",
        "model.summary()\r\n",
        "\r\n",
        "testing = False\r\n",
        "epochs = 15\r\n",
        "\r\n",
        "model.compile(optimizer='adam', \r\n",
        "              loss='sparse_categorical_crossentropy',\r\n",
        "              metrics=['accuracy'])\r\n",
        "model.fit(X_train, y_train, epochs=epochs)\r\n",
        "\r\n",
        "test_loss, test_acc = model.evaluate(X_test, y_test)\r\n",
        "print('\\nTest accuracy: {}'.format(test_acc))"
      ],
      "execution_count": 8,
      "outputs": [
        {
          "output_type": "stream",
          "text": [
            "Model: \"sequential\"\n",
            "_________________________________________________________________\n",
            "Layer (type)                 Output Shape              Param #   \n",
            "=================================================================\n",
            "Conv1 (Conv2D)               (None, 99, 99, 8)         80        \n",
            "_________________________________________________________________\n",
            "flatten (Flatten)            (None, 78408)             0         \n",
            "_________________________________________________________________\n",
            "Softmax (Dense)              (None, 2)                 156818    \n",
            "=================================================================\n",
            "Total params: 156,898\n",
            "Trainable params: 156,898\n",
            "Non-trainable params: 0\n",
            "_________________________________________________________________\n",
            "Epoch 1/15\n",
            "7/7 [==============================] - 1s 60ms/step - loss: 2.9225 - accuracy: 0.4757\n",
            "Epoch 2/15\n",
            "7/7 [==============================] - 0s 64ms/step - loss: 1.3008 - accuracy: 0.6004\n",
            "Epoch 3/15\n",
            "7/7 [==============================] - 0s 62ms/step - loss: 0.9495 - accuracy: 0.5731\n",
            "Epoch 4/15\n",
            "7/7 [==============================] - 0s 63ms/step - loss: 0.3322 - accuracy: 0.9052\n",
            "Epoch 5/15\n",
            "7/7 [==============================] - 0s 62ms/step - loss: 0.2530 - accuracy: 0.9364\n",
            "Epoch 6/15\n",
            "7/7 [==============================] - 0s 61ms/step - loss: 0.2156 - accuracy: 0.9257\n",
            "Epoch 7/15\n",
            "7/7 [==============================] - 0s 63ms/step - loss: 0.1729 - accuracy: 0.9554\n",
            "Epoch 8/15\n",
            "7/7 [==============================] - 0s 62ms/step - loss: 0.1086 - accuracy: 0.9919\n",
            "Epoch 9/15\n",
            "7/7 [==============================] - 0s 65ms/step - loss: 0.0901 - accuracy: 0.9864\n",
            "Epoch 10/15\n",
            "7/7 [==============================] - 0s 62ms/step - loss: 0.0737 - accuracy: 1.0000\n",
            "Epoch 11/15\n",
            "7/7 [==============================] - 0s 62ms/step - loss: 0.0588 - accuracy: 1.0000\n",
            "Epoch 12/15\n",
            "7/7 [==============================] - 0s 62ms/step - loss: 0.0507 - accuracy: 1.0000\n",
            "Epoch 13/15\n",
            "7/7 [==============================] - 0s 61ms/step - loss: 0.0405 - accuracy: 1.0000\n",
            "Epoch 14/15\n",
            "7/7 [==============================] - 0s 63ms/step - loss: 0.0391 - accuracy: 1.0000\n",
            "Epoch 15/15\n",
            "7/7 [==============================] - 0s 61ms/step - loss: 0.0282 - accuracy: 1.0000\n",
            "2/2 [==============================] - 0s 23ms/step - loss: 0.1407 - accuracy: 0.9434\n",
            "\n",
            "Test accuracy: 0.9433962106704712\n"
          ],
          "name": "stdout"
        }
      ]
    },
    {
      "cell_type": "code",
      "metadata": {
        "colab": {
          "base_uri": "https://localhost:8080/"
        },
        "id": "KTb_8RALEwA1",
        "outputId": "fea407c1-8829-482c-bec4-3ee5ec7ba1e7"
      },
      "source": [
        "print(model.predict(X_test))"
      ],
      "execution_count": 9,
      "outputs": [
        {
          "output_type": "stream",
          "text": [
            "[[9.9277145e-01 7.2285333e-03]\n",
            " [9.8830914e-01 1.1690883e-02]\n",
            " [9.3892235e-03 9.9061078e-01]\n",
            " [1.2624229e-01 8.7375772e-01]\n",
            " [9.8559040e-01 1.4409636e-02]\n",
            " [9.9872643e-01 1.2735904e-03]\n",
            " [9.6424586e-01 3.5754211e-02]\n",
            " [1.9227372e-01 8.0772626e-01]\n",
            " [9.9802291e-01 1.9770768e-03]\n",
            " [9.9938142e-01 6.1850081e-04]\n",
            " [5.7464768e-03 9.9425346e-01]\n",
            " [1.9364014e-01 8.0635983e-01]\n",
            " [8.2349833e-03 9.9176496e-01]\n",
            " [1.4651809e-02 9.8534817e-01]\n",
            " [1.9703674e-01 8.0296320e-01]\n",
            " [2.1967201e-01 7.8032804e-01]\n",
            " [9.7292028e-02 9.0270799e-01]\n",
            " [9.8942530e-01 1.0574654e-02]\n",
            " [7.7791232e-01 2.2208774e-01]\n",
            " [6.7117775e-04 9.9932885e-01]\n",
            " [9.4765328e-02 9.0523469e-01]\n",
            " [9.7338617e-01 2.6613867e-02]\n",
            " [9.5818961e-01 4.1810419e-02]\n",
            " [4.2688924e-01 5.7311082e-01]\n",
            " [9.9379063e-02 9.0062100e-01]\n",
            " [1.0757528e-02 9.8924249e-01]\n",
            " [6.1357749e-01 3.8642251e-01]\n",
            " [9.8139441e-01 1.8605564e-02]\n",
            " [1.0107853e-02 9.8989213e-01]\n",
            " [9.9695444e-01 3.0455161e-03]\n",
            " [6.9393694e-02 9.3060631e-01]\n",
            " [1.9841651e-03 9.9801588e-01]\n",
            " [3.5375681e-02 9.6462429e-01]\n",
            " [8.5784787e-01 1.4215206e-01]\n",
            " [5.9637016e-01 4.0362984e-01]\n",
            " [9.8110080e-01 1.8899150e-02]\n",
            " [6.0502756e-02 9.3949723e-01]\n",
            " [9.9601798e-02 9.0039814e-01]\n",
            " [1.0789839e-02 9.8921019e-01]\n",
            " [7.7374533e-02 9.2262548e-01]\n",
            " [1.0597747e-01 8.9402252e-01]\n",
            " [3.7525022e-01 6.2474978e-01]\n",
            " [6.8928170e-01 3.1071830e-01]\n",
            " [9.9968815e-01 3.1184399e-04]\n",
            " [7.9961037e-03 9.9200386e-01]\n",
            " [9.7384268e-01 2.6157245e-02]\n",
            " [9.8095489e-01 1.9045144e-02]\n",
            " [9.9070287e-01 9.2970869e-03]\n",
            " [1.7883420e-02 9.8211652e-01]\n",
            " [9.9273515e-01 7.2648409e-03]\n",
            " [9.9410254e-01 5.8974419e-03]\n",
            " [9.9957997e-01 4.1997724e-04]\n",
            " [3.8279876e-02 9.6172017e-01]]\n"
          ],
          "name": "stdout"
        }
      ]
    },
    {
      "cell_type": "code",
      "metadata": {
        "colab": {
          "base_uri": "https://localhost:8080/"
        },
        "id": "kWvBm1RVE0MU",
        "outputId": "25dc7b3a-2e9f-45be-8143-836d529889ba"
      },
      "source": [
        "!pip install tensorflowjs"
      ],
      "execution_count": 3,
      "outputs": [
        {
          "output_type": "stream",
          "text": [
            "Collecting tensorflowjs\n",
            "\u001b[?25l  Downloading https://files.pythonhosted.org/packages/67/4e/f9a147cbf1694b76ac5d2689bbaecf4f70a98712908474ea733d2f545f61/tensorflowjs-3.1.0-py3-none-any.whl (63kB)\n",
            "\u001b[K     |████████████████████████████████| 71kB 3.5MB/s \n",
            "\u001b[?25hRequirement already satisfied: six<2,>=1.12.0 in /usr/local/lib/python3.6/dist-packages (from tensorflowjs) (1.15.0)\n",
            "Collecting tensorflow-hub<0.10,>=0.7.0\n",
            "\u001b[?25l  Downloading https://files.pythonhosted.org/packages/ac/83/a7df82744a794107641dad1decaad017d82e25f0e1f761ac9204829eef96/tensorflow_hub-0.9.0-py2.py3-none-any.whl (103kB)\n",
            "\u001b[K     |████████████████████████████████| 112kB 7.8MB/s \n",
            "\u001b[?25hRequirement already satisfied: h5py<3,>=2.8.0 in /usr/local/lib/python3.6/dist-packages (from tensorflowjs) (2.10.0)\n",
            "Requirement already satisfied: tensorflow<3,>=2.1.0 in /usr/local/lib/python3.6/dist-packages (from tensorflowjs) (2.4.1)\n",
            "Requirement already satisfied: protobuf>=3.8.0 in /usr/local/lib/python3.6/dist-packages (from tensorflow-hub<0.10,>=0.7.0->tensorflowjs) (3.12.4)\n",
            "Requirement already satisfied: numpy>=1.12.0 in /usr/local/lib/python3.6/dist-packages (from tensorflow-hub<0.10,>=0.7.0->tensorflowjs) (1.19.5)\n",
            "Requirement already satisfied: absl-py~=0.10 in /usr/local/lib/python3.6/dist-packages (from tensorflow<3,>=2.1.0->tensorflowjs) (0.10.0)\n",
            "Requirement already satisfied: astunparse~=1.6.3 in /usr/local/lib/python3.6/dist-packages (from tensorflow<3,>=2.1.0->tensorflowjs) (1.6.3)\n",
            "Requirement already satisfied: google-pasta~=0.2 in /usr/local/lib/python3.6/dist-packages (from tensorflow<3,>=2.1.0->tensorflowjs) (0.2.0)\n",
            "Requirement already satisfied: keras-preprocessing~=1.1.2 in /usr/local/lib/python3.6/dist-packages (from tensorflow<3,>=2.1.0->tensorflowjs) (1.1.2)\n",
            "Requirement already satisfied: flatbuffers~=1.12.0 in /usr/local/lib/python3.6/dist-packages (from tensorflow<3,>=2.1.0->tensorflowjs) (1.12)\n",
            "Requirement already satisfied: opt-einsum~=3.3.0 in /usr/local/lib/python3.6/dist-packages (from tensorflow<3,>=2.1.0->tensorflowjs) (3.3.0)\n",
            "Requirement already satisfied: gast==0.3.3 in /usr/local/lib/python3.6/dist-packages (from tensorflow<3,>=2.1.0->tensorflowjs) (0.3.3)\n",
            "Requirement already satisfied: tensorflow-estimator<2.5.0,>=2.4.0 in /usr/local/lib/python3.6/dist-packages (from tensorflow<3,>=2.1.0->tensorflowjs) (2.4.0)\n",
            "Requirement already satisfied: grpcio~=1.32.0 in /usr/local/lib/python3.6/dist-packages (from tensorflow<3,>=2.1.0->tensorflowjs) (1.32.0)\n",
            "Requirement already satisfied: termcolor~=1.1.0 in /usr/local/lib/python3.6/dist-packages (from tensorflow<3,>=2.1.0->tensorflowjs) (1.1.0)\n",
            "Requirement already satisfied: tensorboard~=2.4 in /usr/local/lib/python3.6/dist-packages (from tensorflow<3,>=2.1.0->tensorflowjs) (2.4.1)\n",
            "Requirement already satisfied: wheel~=0.35 in /usr/local/lib/python3.6/dist-packages (from tensorflow<3,>=2.1.0->tensorflowjs) (0.36.2)\n",
            "Requirement already satisfied: wrapt~=1.12.1 in /usr/local/lib/python3.6/dist-packages (from tensorflow<3,>=2.1.0->tensorflowjs) (1.12.1)\n",
            "Requirement already satisfied: typing-extensions~=3.7.4 in /usr/local/lib/python3.6/dist-packages (from tensorflow<3,>=2.1.0->tensorflowjs) (3.7.4.3)\n",
            "Requirement already satisfied: setuptools in /usr/local/lib/python3.6/dist-packages (from protobuf>=3.8.0->tensorflow-hub<0.10,>=0.7.0->tensorflowjs) (53.0.0)\n",
            "Requirement already satisfied: tensorboard-plugin-wit>=1.6.0 in /usr/local/lib/python3.6/dist-packages (from tensorboard~=2.4->tensorflow<3,>=2.1.0->tensorflowjs) (1.8.0)\n",
            "Requirement already satisfied: google-auth-oauthlib<0.5,>=0.4.1 in /usr/local/lib/python3.6/dist-packages (from tensorboard~=2.4->tensorflow<3,>=2.1.0->tensorflowjs) (0.4.2)\n",
            "Requirement already satisfied: werkzeug>=0.11.15 in /usr/local/lib/python3.6/dist-packages (from tensorboard~=2.4->tensorflow<3,>=2.1.0->tensorflowjs) (1.0.1)\n",
            "Requirement already satisfied: requests<3,>=2.21.0 in /usr/local/lib/python3.6/dist-packages (from tensorboard~=2.4->tensorflow<3,>=2.1.0->tensorflowjs) (2.23.0)\n",
            "Requirement already satisfied: google-auth<2,>=1.6.3 in /usr/local/lib/python3.6/dist-packages (from tensorboard~=2.4->tensorflow<3,>=2.1.0->tensorflowjs) (1.25.0)\n",
            "Requirement already satisfied: markdown>=2.6.8 in /usr/local/lib/python3.6/dist-packages (from tensorboard~=2.4->tensorflow<3,>=2.1.0->tensorflowjs) (3.3.3)\n",
            "Requirement already satisfied: requests-oauthlib>=0.7.0 in /usr/local/lib/python3.6/dist-packages (from google-auth-oauthlib<0.5,>=0.4.1->tensorboard~=2.4->tensorflow<3,>=2.1.0->tensorflowjs) (1.3.0)\n",
            "Requirement already satisfied: idna<3,>=2.5 in /usr/local/lib/python3.6/dist-packages (from requests<3,>=2.21.0->tensorboard~=2.4->tensorflow<3,>=2.1.0->tensorflowjs) (2.10)\n",
            "Requirement already satisfied: chardet<4,>=3.0.2 in /usr/local/lib/python3.6/dist-packages (from requests<3,>=2.21.0->tensorboard~=2.4->tensorflow<3,>=2.1.0->tensorflowjs) (3.0.4)\n",
            "Requirement already satisfied: certifi>=2017.4.17 in /usr/local/lib/python3.6/dist-packages (from requests<3,>=2.21.0->tensorboard~=2.4->tensorflow<3,>=2.1.0->tensorflowjs) (2020.12.5)\n",
            "Requirement already satisfied: urllib3!=1.25.0,!=1.25.1,<1.26,>=1.21.1 in /usr/local/lib/python3.6/dist-packages (from requests<3,>=2.21.0->tensorboard~=2.4->tensorflow<3,>=2.1.0->tensorflowjs) (1.24.3)\n",
            "Requirement already satisfied: pyasn1-modules>=0.2.1 in /usr/local/lib/python3.6/dist-packages (from google-auth<2,>=1.6.3->tensorboard~=2.4->tensorflow<3,>=2.1.0->tensorflowjs) (0.2.8)\n",
            "Requirement already satisfied: rsa<5,>=3.1.4; python_version >= \"3.6\" in /usr/local/lib/python3.6/dist-packages (from google-auth<2,>=1.6.3->tensorboard~=2.4->tensorflow<3,>=2.1.0->tensorflowjs) (4.7)\n",
            "Requirement already satisfied: cachetools<5.0,>=2.0.0 in /usr/local/lib/python3.6/dist-packages (from google-auth<2,>=1.6.3->tensorboard~=2.4->tensorflow<3,>=2.1.0->tensorflowjs) (4.2.1)\n",
            "Requirement already satisfied: importlib-metadata; python_version < \"3.8\" in /usr/local/lib/python3.6/dist-packages (from markdown>=2.6.8->tensorboard~=2.4->tensorflow<3,>=2.1.0->tensorflowjs) (3.4.0)\n",
            "Requirement already satisfied: oauthlib>=3.0.0 in /usr/local/lib/python3.6/dist-packages (from requests-oauthlib>=0.7.0->google-auth-oauthlib<0.5,>=0.4.1->tensorboard~=2.4->tensorflow<3,>=2.1.0->tensorflowjs) (3.1.0)\n",
            "Requirement already satisfied: pyasn1<0.5.0,>=0.4.6 in /usr/local/lib/python3.6/dist-packages (from pyasn1-modules>=0.2.1->google-auth<2,>=1.6.3->tensorboard~=2.4->tensorflow<3,>=2.1.0->tensorflowjs) (0.4.8)\n",
            "Requirement already satisfied: zipp>=0.5 in /usr/local/lib/python3.6/dist-packages (from importlib-metadata; python_version < \"3.8\"->markdown>=2.6.8->tensorboard~=2.4->tensorflow<3,>=2.1.0->tensorflowjs) (3.4.0)\n",
            "Installing collected packages: tensorflow-hub, tensorflowjs\n",
            "  Found existing installation: tensorflow-hub 0.11.0\n",
            "    Uninstalling tensorflow-hub-0.11.0:\n",
            "      Successfully uninstalled tensorflow-hub-0.11.0\n",
            "Successfully installed tensorflow-hub-0.9.0 tensorflowjs-3.1.0\n"
          ],
          "name": "stdout"
        }
      ]
    },
    {
      "cell_type": "code",
      "metadata": {
        "id": "UcWbt4zGE0g7"
      },
      "source": [
        "import time\r\n",
        "saved_model_path = \"tmp/{}.h5\".format(int(time.time()))\r\n",
        "\r\n",
        "model.save(saved_model_path)"
      ],
      "execution_count": 10,
      "outputs": []
    },
    {
      "cell_type": "code",
      "metadata": {
        "colab": {
          "base_uri": "https://localhost:8080/"
        },
        "id": "Ne2XtUjqE4Y_",
        "outputId": "3ab4068e-2d14-4806-ff05-17dc6351f538"
      },
      "source": [
        "!tensorflowjs_converter --input_format=keras {saved_model_path} ./"
      ],
      "execution_count": 11,
      "outputs": [
        {
          "output_type": "stream",
          "text": [
            "2021-02-20 15:42:26.004681: I tensorflow/stream_executor/platform/default/dso_loader.cc:49] Successfully opened dynamic library libcudart.so.10.1\n"
          ],
          "name": "stdout"
        }
      ]
    },
    {
      "cell_type": "code",
      "metadata": {
        "colab": {
          "base_uri": "https://localhost:8080/"
        },
        "id": "RpHggbcLG8UQ",
        "outputId": "b3a36142-15bc-4e8e-9cf1-0582616d768c"
      },
      "source": [
        "import time\r\n",
        "saved_model_path = \"/tmp/{}\".format(int(time.time()))\r\n",
        "model.save(saved_model_path)"
      ],
      "execution_count": 12,
      "outputs": [
        {
          "output_type": "stream",
          "text": [
            "INFO:tensorflow:Assets written to: /tmp/1613835783/assets\n"
          ],
          "name": "stdout"
        }
      ]
    },
    {
      "cell_type": "code",
      "metadata": {
        "id": "wi0-aVPkGzxk"
      },
      "source": [
        "!tensorflowjs_converter --input_format=keras {saved_model_path} ./"
      ],
      "execution_count": null,
      "outputs": []
    }
  ]
}